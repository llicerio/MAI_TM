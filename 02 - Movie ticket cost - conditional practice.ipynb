{
 "cells": [
  {
   "cell_type": "markdown",
   "id": "ff6f9b11",
   "metadata": {},
   "source": [
    "## Laura Licerio"
   ]
  },
  {
   "cell_type": "markdown",
   "id": "de8c2d7d",
   "metadata": {},
   "source": [
    "Una sala de cine cobra diferentes precios de entrada según la edad de la persona. Si una persona es menor de 3 años, la entrada es gratuita; si tienen entre 3 y 12, el boleto es de 10 , y si son mayores de 12 años, el boleto cuesta $ 15. Escribe un bucle en el que se solicite a los usuarios su edad y despliegue el costo de la entrada."
   ]
  },
  {
   "cell_type": "code",
   "execution_count": 16,
   "id": "d000bd0d",
   "metadata": {},
   "outputs": [],
   "source": [
    "var_boletos = \"Escriba la cantidad de boletos\\n\""
   ]
  },
  {
   "cell_type": "code",
   "execution_count": 17,
   "id": "30a1c828",
   "metadata": {},
   "outputs": [
    {
     "name": "stdout",
     "output_type": "stream",
     "text": [
      "Escriba la cantidad de boletos\n",
      "5\n"
     ]
    }
   ],
   "source": [
    "boletos = input (var_boletos)"
   ]
  },
  {
   "cell_type": "code",
   "execution_count": 18,
   "id": "38dcbe21",
   "metadata": {},
   "outputs": [],
   "source": [
    "int_boletos = int(boletos)"
   ]
  },
  {
   "cell_type": "code",
   "execution_count": 19,
   "id": "2b5644a4",
   "metadata": {},
   "outputs": [],
   "source": [
    "contador = 0"
   ]
  },
  {
   "cell_type": "code",
   "execution_count": 20,
   "id": "c7f80aa9",
   "metadata": {},
   "outputs": [
    {
     "name": "stdout",
     "output_type": "stream",
     "text": [
      "Escribe tu edad\n",
      "9\n",
      "El costo de su boleto es 10\n",
      "\n",
      "Escribe tu edad\n",
      "20\n",
      "El costo de su boleto es 15\n",
      "\n",
      "Escribe tu edad\n",
      "3\n",
      "El costo de su boleto es 10\n",
      "\n",
      "Escribe tu edad\n",
      "1\n",
      "El costo de su boleto es 0\n",
      "\n",
      "Escribe tu edad\n",
      "12\n",
      "El costo de su boleto es 10\n",
      "\n"
     ]
    }
   ],
   "source": [
    "while contador < int_boletos : \n",
    "    var_edad = \"Escribe tu edad\\n\"\n",
    "    edad=input(var_edad)\n",
    "    int_edad=int(edad)\n",
    "    if int_edad < 3: \n",
    "        precio = 0\n",
    "    elif int_edad >=3 and int_edad <= 12:\n",
    "        precio = 10\n",
    "    else:\n",
    "        precio = 15\n",
    "    contador= contador + 1\n",
    "    print (f\"El costo de su boleto es {precio}\\n\")"
   ]
  },
  {
   "cell_type": "code",
   "execution_count": null,
   "id": "accac9ec",
   "metadata": {},
   "outputs": [],
   "source": []
  },
  {
   "cell_type": "code",
   "execution_count": null,
   "id": "a11bf991",
   "metadata": {},
   "outputs": [],
   "source": []
  }
 ],
 "metadata": {
  "kernelspec": {
   "display_name": "Python 3 (ipykernel)",
   "language": "python",
   "name": "python3"
  },
  "language_info": {
   "codemirror_mode": {
    "name": "ipython",
    "version": 3
   },
   "file_extension": ".py",
   "mimetype": "text/x-python",
   "name": "python",
   "nbconvert_exporter": "python",
   "pygments_lexer": "ipython3",
   "version": "3.8.8"
  }
 },
 "nbformat": 4,
 "nbformat_minor": 5
}
