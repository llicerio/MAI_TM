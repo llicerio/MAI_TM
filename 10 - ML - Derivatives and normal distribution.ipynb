{
 "cells": [
  {
   "cell_type": "markdown",
   "id": "b5519ded",
   "metadata": {},
   "source": [
    "## Machine Learning"
   ]
  },
  {
   "cell_type": "markdown",
   "id": "6b07dcfb",
   "metadata": {},
   "source": [
    "### Laura Licerio"
   ]
  },
  {
   "cell_type": "markdown",
   "id": "263ee5f8",
   "metadata": {},
   "source": [
    "Calcula la primera derivada de las siguientes funciones:"
   ]
  },
  {
   "attachments": {
    "3-1.png": {
     "image/png": "[encoded data removed]"
    }
   },
   "cell_type": "markdown",
   "id": "40c21985",
   "metadata": {},
   "source": [
    "![3-1.png](attachment:3-1.png)"
   ]
  },
  {
   "cell_type": "code",
   "execution_count": 1,
   "id": "b8f641cb",
   "metadata": {},
   "outputs": [
    {
     "data": {
      "text/latex": [
       "$\\displaystyle 3 x + 4 e^{- 4 x}$"
      ],
      "text/plain": [
       "3*x + 4*exp(-4*x)"
      ]
     },
     "execution_count": 1,
     "metadata": {},
     "output_type": "execute_result"
    }
   ],
   "source": [
    "import sympy as sym\n",
    "x = sym.symbols('x')\n",
    "\n",
    "\n",
    "funcionA = 3*x + 4*sym.exp(-4*x) \n",
    "funcionA\n",
    "\n"
   ]
  },
  {
   "cell_type": "code",
   "execution_count": 2,
   "id": "20220bc2",
   "metadata": {},
   "outputs": [
    {
     "data": {
      "text/latex": [
       "$\\displaystyle 3 - 16 e^{- 4 x}$"
      ],
      "text/plain": [
       "3 - 16*exp(-4*x)"
      ]
     },
     "execution_count": 2,
     "metadata": {},
     "output_type": "execute_result"
    }
   ],
   "source": [
    "derivada_funcionA = sym.diff(funcionA)\n",
    "derivada_funcionA"
   ]
  },
  {
   "cell_type": "code",
   "execution_count": 3,
   "id": "5b208129",
   "metadata": {},
   "outputs": [
    {
     "data": {
      "text/latex": [
       "$\\displaystyle - 8 x^{2} - 3 x + 5 x^{3 x + 1}$"
      ],
      "text/plain": [
       "-8*x**2 - 3*x + 5*x**(3*x + 1)"
      ]
     },
     "execution_count": 3,
     "metadata": {},
     "output_type": "execute_result"
    }
   ],
   "source": [
    "funcionB = 5*x**(3*x+1) - 8*x**2 - 3*x\n",
    "funcionB"
   ]
  },
  {
   "cell_type": "code",
   "execution_count": 4,
   "id": "a991739e",
   "metadata": {},
   "outputs": [
    {
     "data": {
      "text/latex": [
       "$\\displaystyle - 16 x + 5 x^{3 x + 1} \\left(3 \\log{\\left(x \\right)} + \\frac{3 x + 1}{x}\\right) - 3$"
      ],
      "text/plain": [
       "-16*x + 5*x**(3*x + 1)*(3*log(x) + (3*x + 1)/x) - 3"
      ]
     },
     "execution_count": 4,
     "metadata": {},
     "output_type": "execute_result"
    }
   ],
   "source": [
    "derivada_funcionB = sym.diff(funcionB)\n",
    "derivada_funcionB"
   ]
  },
  {
   "cell_type": "markdown",
   "id": "a418b528",
   "metadata": {},
   "source": [
    "Calcula la segunda derivada de las siguientes funciones:"
   ]
  },
  {
   "attachments": {
    "3-1b.png": {
     "image/png": "[encoded data removed]"
    }
   },
   "cell_type": "markdown",
   "id": "6e02be8c",
   "metadata": {},
   "source": [
    "![3-1b.png](attachment:3-1b.png)"
   ]
  },
  {
   "cell_type": "code",
   "execution_count": 5,
   "id": "d4f3c481",
   "metadata": {},
   "outputs": [
    {
     "data": {
      "text/latex": [
       "$\\displaystyle 4 x^{4} + 6 x^{2} + e^{4 x^{2}}$"
      ],
      "text/plain": [
       "4*x**4 + 6*x**2 + exp(4*x**2)"
      ]
     },
     "execution_count": 5,
     "metadata": {},
     "output_type": "execute_result"
    }
   ],
   "source": [
    "funcionC = 4*x**4 + 6*x**2 + sym.exp(4*x**2)\n",
    "funcionC"
   ]
  },
  {
   "cell_type": "code",
   "execution_count": 6,
   "id": "a808e7d2",
   "metadata": {},
   "outputs": [
    {
     "data": {
      "text/latex": [
       "$\\displaystyle 4 \\left(16 x^{2} e^{4 x^{2}} + 12 x^{2} + 2 e^{4 x^{2}} + 3\\right)$"
      ],
      "text/plain": [
       "4*(16*x**2*exp(4*x**2) + 12*x**2 + 2*exp(4*x**2) + 3)"
      ]
     },
     "execution_count": 6,
     "metadata": {},
     "output_type": "execute_result"
    }
   ],
   "source": [
    "derivada2_funcionC = sym.diff(funcionC, x, 2)\n",
    "derivada2_funcionC"
   ]
  },
  {
   "cell_type": "code",
   "execution_count": 7,
   "id": "36b5f4d4",
   "metadata": {},
   "outputs": [
    {
     "data": {
      "text/latex": [
       "$\\displaystyle 0.5 x^{3} + 8 x$"
      ],
      "text/plain": [
       "0.5*x**3 + 8*x"
      ]
     },
     "execution_count": 7,
     "metadata": {},
     "output_type": "execute_result"
    }
   ],
   "source": [
    "funcionD = 1/2*x**3 + 8 * x\n",
    "funcionD"
   ]
  },
  {
   "cell_type": "code",
   "execution_count": 8,
   "id": "72824243",
   "metadata": {},
   "outputs": [
    {
     "data": {
      "text/latex": [
       "$\\displaystyle 3.0 x$"
      ],
      "text/plain": [
       "3.0*x"
      ]
     },
     "execution_count": 8,
     "metadata": {},
     "output_type": "execute_result"
    }
   ],
   "source": [
    "derivada2_funcionD = sym.diff(funcionD,x,2)\n",
    "derivada2_funcionD"
   ]
  },
  {
   "cell_type": "markdown",
   "id": "d13207a4",
   "metadata": {},
   "source": [
    "Calcula las primeras derivadas parciales de las siguientes funciones:"
   ]
  },
  {
   "attachments": {
    "p_1.png": {
     "image/png": "[encoded data removed]"
    }
   },
   "cell_type": "markdown",
   "id": "feef85ff",
   "metadata": {},
   "source": [
    "![p_1.png](attachment:p_1.png)"
   ]
  },
  {
   "cell_type": "code",
   "execution_count": 9,
   "id": "7e9d715c",
   "metadata": {},
   "outputs": [
    {
     "data": {
      "text/latex": [
       "$\\displaystyle 4 x^{3} y - 7 x + 5 y^{2}$"
      ],
      "text/plain": [
       "4*x**3*y - 7*x + 5*y**2"
      ]
     },
     "execution_count": 9,
     "metadata": {},
     "output_type": "execute_result"
    }
   ],
   "source": [
    "y = sym.symbols('y')\n",
    "funcionE = 4*y*x**3  + 5*y**2 - 7*x\n",
    "funcionE "
   ]
  },
  {
   "cell_type": "code",
   "execution_count": 10,
   "id": "3b9b8a80",
   "metadata": {},
   "outputs": [
    {
     "data": {
      "text/latex": [
       "$\\displaystyle 12 x^{2} y - 7$"
      ],
      "text/plain": [
       "12*x**2*y - 7"
      ]
     },
     "execution_count": 10,
     "metadata": {},
     "output_type": "execute_result"
    }
   ],
   "source": [
    "derivada_parcial_funcionE_x = sym.diff(funcionE,x)\n",
    "derivada_parcial_funcionE_x"
   ]
  },
  {
   "cell_type": "code",
   "execution_count": 11,
   "id": "d1a084b7",
   "metadata": {},
   "outputs": [
    {
     "data": {
      "text/latex": [
       "$\\displaystyle 4 x^{3} + 10 y$"
      ],
      "text/plain": [
       "4*x**3 + 10*y"
      ]
     },
     "execution_count": 11,
     "metadata": {},
     "output_type": "execute_result"
    }
   ],
   "source": [
    "derivada_parcial_funcionE_y = sym.diff(funcionE,y)\n",
    "derivada_parcial_funcionE_y"
   ]
  },
  {
   "cell_type": "code",
   "execution_count": 12,
   "id": "577bb08f",
   "metadata": {},
   "outputs": [
    {
     "data": {
      "text/latex": [
       "$\\displaystyle \\frac{y^{2}}{1 - e^{x}}$"
      ],
      "text/plain": [
       "y**2/(1 - exp(x))"
      ]
     },
     "execution_count": 12,
     "metadata": {},
     "output_type": "execute_result"
    }
   ],
   "source": [
    "funcionF = y**2 / (1 - sym.exp(x))\n",
    "funcionF"
   ]
  },
  {
   "cell_type": "code",
   "execution_count": 13,
   "id": "238c5e78",
   "metadata": {},
   "outputs": [
    {
     "data": {
      "text/latex": [
       "$\\displaystyle \\frac{y^{2} e^{x}}{\\left(1 - e^{x}\\right)^{2}}$"
      ],
      "text/plain": [
       "y**2*exp(x)/(1 - exp(x))**2"
      ]
     },
     "execution_count": 13,
     "metadata": {},
     "output_type": "execute_result"
    }
   ],
   "source": [
    "derivada_parcial_funcionF_x = sym.diff(funcionF,x)\n",
    "derivada_parcial_funcionF_x"
   ]
  },
  {
   "cell_type": "code",
   "execution_count": 14,
   "id": "0585fe3a",
   "metadata": {},
   "outputs": [
    {
     "data": {
      "text/latex": [
       "$\\displaystyle \\frac{2 y}{1 - e^{x}}$"
      ],
      "text/plain": [
       "2*y/(1 - exp(x))"
      ]
     },
     "execution_count": 14,
     "metadata": {},
     "output_type": "execute_result"
    }
   ],
   "source": [
    "derivada_parcial_funcionF_y = sym.diff(funcionF,y)\n",
    "derivada_parcial_funcionF_y"
   ]
  },
  {
   "cell_type": "markdown",
   "id": "c8996414",
   "metadata": {},
   "source": [
    "Calcula las segundas derivadas parciales de las siguientes funciones:"
   ]
  },
  {
   "attachments": {
    "p_2.png": {
     "image/png": "[encoded data removed]"
    }
   },
   "cell_type": "markdown",
   "id": "192e14c6",
   "metadata": {},
   "source": [
    "![p_2.png](attachment:p_2.png)"
   ]
  },
  {
   "cell_type": "code",
   "execution_count": 15,
   "id": "5c63ef84",
   "metadata": {},
   "outputs": [
    {
     "data": {
      "text/latex": [
       "$\\displaystyle 3 x^{5} y + \\frac{y^{3}}{3}$"
      ],
      "text/plain": [
       "3*x**5*y + y**3/3"
      ]
     },
     "execution_count": 15,
     "metadata": {},
     "output_type": "execute_result"
    }
   ],
   "source": [
    "funcionG = 3*x**5*y + y**3/3\n",
    "funcionG"
   ]
  },
  {
   "cell_type": "code",
   "execution_count": 16,
   "id": "03843b4c",
   "metadata": {},
   "outputs": [
    {
     "data": {
      "text/latex": [
       "$\\displaystyle 60 x^{3} y$"
      ],
      "text/plain": [
       "60*x**3*y"
      ]
     },
     "execution_count": 16,
     "metadata": {},
     "output_type": "execute_result"
    }
   ],
   "source": [
    "derivada_parcial2_funcionG_x = sym.diff(funcionG,x,2)\n",
    "derivada_parcial2_funcionG_x"
   ]
  },
  {
   "cell_type": "code",
   "execution_count": 17,
   "id": "f9862906",
   "metadata": {},
   "outputs": [
    {
     "data": {
      "text/latex": [
       "$\\displaystyle 2 y$"
      ],
      "text/plain": [
       "2*y"
      ]
     },
     "execution_count": 17,
     "metadata": {},
     "output_type": "execute_result"
    }
   ],
   "source": [
    "derivada_parcial2_funcionG_y = sym.diff(funcionG,y,2)\n",
    "derivada_parcial2_funcionG_y"
   ]
  },
  {
   "cell_type": "code",
   "execution_count": 18,
   "id": "ce7dca3e",
   "metadata": {},
   "outputs": [
    {
     "data": {
      "text/latex": [
       "$\\displaystyle \\frac{\\operatorname{asin}{\\left(x^{3} \\right)}}{\\cos^{2}{\\left(2 y \\right)}}$"
      ],
      "text/plain": [
       "asin(x**3)/cos(2*y)**2"
      ]
     },
     "execution_count": 18,
     "metadata": {},
     "output_type": "execute_result"
    }
   ],
   "source": [
    "funcionH = sym.asin(x**3) / (sym.cos(2*y))**2\n",
    "funcionH"
   ]
  },
  {
   "cell_type": "code",
   "execution_count": 19,
   "id": "81c579a9",
   "metadata": {},
   "outputs": [
    {
     "data": {
      "text/latex": [
       "$\\displaystyle - \\frac{3 x \\left(\\frac{3 x^{6}}{x^{6} - 1} - 2\\right)}{\\sqrt{1 - x^{6}} \\cos^{2}{\\left(2 y \\right)}}$"
      ],
      "text/plain": [
       "-3*x*(3*x**6/(x**6 - 1) - 2)/(sqrt(1 - x**6)*cos(2*y)**2)"
      ]
     },
     "execution_count": 19,
     "metadata": {},
     "output_type": "execute_result"
    }
   ],
   "source": [
    "derivada_parcial2_funcionH_x = sym.diff(funcionH,x,2)\n",
    "derivada_parcial2_funcionH_x"
   ]
  },
  {
   "cell_type": "code",
   "execution_count": 20,
   "id": "7f393427",
   "metadata": {},
   "outputs": [
    {
     "data": {
      "text/latex": [
       "$\\displaystyle \\frac{8 \\left(\\frac{3 \\sin^{2}{\\left(2 y \\right)}}{\\cos^{2}{\\left(2 y \\right)}} + 1\\right) \\operatorname{asin}{\\left(x^{3} \\right)}}{\\cos^{2}{\\left(2 y \\right)}}$"
      ],
      "text/plain": [
       "8*(3*sin(2*y)**2/cos(2*y)**2 + 1)*asin(x**3)/cos(2*y)**2"
      ]
     },
     "execution_count": 20,
     "metadata": {},
     "output_type": "execute_result"
    }
   ],
   "source": [
    "derivada_parcial2_funcionH_y = sym.diff(funcionH,y,2)\n",
    "derivada_parcial2_funcionH_y"
   ]
  },
  {
   "cell_type": "markdown",
   "id": "4a542611",
   "metadata": {},
   "source": [
    "Investiga sobre diferentes implementaciones del algoritmo de propagación inversa y construye un ejemplo en Python donde se compruebe su funcionamiento."
   ]
  },
  {
   "cell_type": "code",
   "execution_count": 1,
   "id": "b302e4a3",
   "metadata": {},
   "outputs": [
    {
     "name": "stdout",
     "output_type": "stream",
     "text": [
      "(150,)\n"
     ]
    }
   ],
   "source": [
    "\n",
    "import numpy as np\n",
    "import matplotlib.pyplot as plt \n",
    "\n",
    "from sklearn.datasets import load_iris\n",
    "data = load_iris()\n",
    "\n",
    "print(data.target.shape)\n",
    "\n",
    "\n"
   ]
  },
  {
   "cell_type": "code",
   "execution_count": 2,
   "id": "556ab29b",
   "metadata": {},
   "outputs": [
    {
     "name": "stdout",
     "output_type": "stream",
     "text": [
      "(150, 4)\n"
     ]
    }
   ],
   "source": [
    "X=data.data\n",
    "Y=data.target\n",
    "\n",
    "#Code for randomly shuffling the dataset\n",
    "from scipy.sparse import coo_matrix\n",
    "X_sparse = coo_matrix(X)\n",
    "from sklearn.utils import shuffle\n",
    "X, X_sparse, y = shuffle(X, X_sparse, Y, random_state=0)\n",
    "X=X_sparse.toarray()\n",
    "Y=y\n",
    "\n",
    "print(X.shape)"
   ]
  },
  {
   "cell_type": "code",
   "execution_count": 3,
   "id": "320a1536",
   "metadata": {},
   "outputs": [],
   "source": [
    "Y=Y.reshape(150,1)"
   ]
  },
  {
   "cell_type": "code",
   "execution_count": 4,
   "id": "9706e102",
   "metadata": {},
   "outputs": [],
   "source": [
    "#Divivding the dataset into training and testing \n",
    "train_X=X[0:125,:]\n",
    "train_Y=Y[0:125,:]\n",
    "test_X=X[125:,:]\n",
    "test_Y=Y[125:,:]"
   ]
  },
  {
   "cell_type": "code",
   "execution_count": 5,
   "id": "a6b2c416",
   "metadata": {},
   "outputs": [],
   "source": [
    "def sigmoid(x):\n",
    "  for i in range(0,x.shape[0]):\n",
    "    x[i]=1/(1+np.exp(-1*x[i]))\n",
    "  return x"
   ]
  },
  {
   "cell_type": "code",
   "execution_count": 6,
   "id": "e5fde92b",
   "metadata": {},
   "outputs": [],
   "source": [
    "def diffSigmoid(x):\n",
    "  for i in  range(0,len(x)):\n",
    "    y=1/(1+np.exp(-1*x[i]))\n",
    "    x[i]=y*(1-y)\n",
    "  return x "
   ]
  },
  {
   "cell_type": "code",
   "execution_count": 7,
   "id": "2676acc2",
   "metadata": {},
   "outputs": [
    {
     "name": "stdout",
     "output_type": "stream",
     "text": [
      "(150, 1)\n"
     ]
    }
   ],
   "source": [
    "print(Y.shape)"
   ]
  },
  {
   "cell_type": "code",
   "execution_count": 8,
   "id": "f02c355a",
   "metadata": {},
   "outputs": [],
   "source": [
    "#Random initialization of Weights Matrices\n",
    "#Model contains 4 layers having 4->8->8->3 neurons respectively\n",
    "w12=np.random.rand(8,4)\n",
    "b1=np.random.rand(8,1)\n",
    "w23=np.random.rand(8,8)\n",
    "b2=np.random.rand(8,1)\n",
    "w34=np.random.rand(3,8)\n",
    "b3=np.random.rand(3,1)"
   ]
  },
  {
   "cell_type": "code",
   "execution_count": 9,
   "id": "af9f0129",
   "metadata": {},
   "outputs": [
    {
     "name": "stdout",
     "output_type": "stream",
     "text": [
      "[[0.43560966 0.1204315  0.91911101 0.74404115 0.49354978 0.93093678\n",
      "  0.20812365 0.04000107]\n",
      " [0.87945158 0.39099484 0.34627474 0.37327574 0.26712072 0.00933884\n",
      "  0.107968   0.99362651]\n",
      " [0.78217126 0.50466338 0.311861   0.00732013 0.5844914  0.64940702\n",
      "  0.74325946 0.17143597]\n",
      " [0.03830969 0.46723468 0.97538414 0.68431484 0.91418327 0.75051997\n",
      "  0.21042765 0.67801291]\n",
      " [0.16072966 0.70142019 0.15033156 0.25336932 0.74471027 0.54389582\n",
      "  0.9197769  0.8976741 ]\n",
      " [0.83576983 0.05068826 0.59744899 0.34834435 0.07325947 0.15849279\n",
      "  0.92308751 0.86310316]\n",
      " [0.71747081 0.57963059 0.68042839 0.62285204 0.1828265  0.83857764\n",
      "  0.42225992 0.14448586]\n",
      " [0.98451059 0.08253087 0.55164294 0.98754241 0.43860001 0.53765201\n",
      "  0.09617749 0.42306352]]\n"
     ]
    }
   ],
   "source": [
    "print(w23)"
   ]
  },
  {
   "cell_type": "code",
   "execution_count": 10,
   "id": "058c6f0f",
   "metadata": {},
   "outputs": [],
   "source": [
    "def forwardPropagation(X,Y,dict2):\n",
    "    dict ={}\n",
    "    w12=dict2[\"w12\"]\n",
    "    w23=dict2[\"w23\"]\n",
    "    w34=dict2[\"w34\"]\n",
    "    b1=dict2[\"b1\"]\n",
    "    b2=dict2[\"b2\"]\n",
    "    b3=dict2[\"b3\"]\n",
    "    X=np.asarray(X)\n",
    "    X=X.reshape((4,1))\n",
    "    net1=np.dot(w12,X)+b1\n",
    "    a1=sigmoid(net1)\n",
    "    net2=np.dot(w23,a1)+b2\n",
    "    a2=sigmoid(net2)\n",
    "    net3=np.dot(w34,a2)+b3\n",
    "    a3=sigmoid(net3)\n",
    "    error=1/2*np.sum(pow((Y-a3),2))\n",
    "    dict[\"a1\"]=a1\n",
    "    dict[\"a2\"]=a2\n",
    "    dict[\"a3\"]=a3\n",
    "    dict[\"net1\"]=net1\n",
    "    dict[\"net2\"]=net2\n",
    "    dict[\"net3\"]=net3\n",
    "    dict[\"err\"]=error\n",
    "    return dict"
   ]
  },
  {
   "cell_type": "code",
   "execution_count": 11,
   "id": "1114e7a2",
   "metadata": {},
   "outputs": [],
   "source": [
    "def Backpropagation(X,y,alpha,dict,dict2):\n",
    "    a1=dict[\"a1\"]\n",
    "    a2=dict[\"a2\"]\n",
    "    a3=dict[\"a3\"]\n",
    "    net1=dict[\"net1\"]\n",
    "    net2=dict[\"net2\"]\n",
    "    net3=dict[\"net3\"]\n",
    "    error=dict[\"err\"]\n",
    "    w12=dict2[\"w12\"]\n",
    "    w23=dict2[\"w23\"]\n",
    "    w34=dict2[\"w34\"]\n",
    "    b1=dict2[\"b1\"]\n",
    "    b2=dict2[\"b2\"]\n",
    "    b3=dict2[\"b3\"]\n",
    "    y1=np.zeros((3,1))\n",
    "    y1[y]=1\n",
    "    a3=a3.reshape((3,1))\n",
    "    a2=a2.reshape((8,1))\n",
    "    a1=a1.reshape((8,1))\n",
    "    X=np.asarray(X)\n",
    "    X=X.reshape((4,1))\n",
    "    temp=np.multiply(a3-y1,np.multiply(a3,np.ones(a3.shape)-a3))\n",
    "    temp2=np.multiply(np.dot(temp.transpose(),w34).T,np.multiply(a2,np.ones(a2.shape)-a2))\n",
    "    temp3=np.multiply(np.dot(temp2.transpose(),w23).T,np.multiply(a1,np.ones(a1.shape)-a1))\n",
    "    w34=w34-(alpha)*(np.dot(temp,a2.T))\n",
    "    b3=b3-(alpha)*temp \n",
    "    w23=w23-(alpha)*(np.dot(temp2,a1.T))\n",
    "    b2=b2-(alpha)*temp2\n",
    "    w12=w12-(alpha)*(np.dot(temp3,X.T))            \n",
    "    b1=b1-(alpha)*(temp3)\n",
    "    dict2[\"w12\"]=w12\n",
    "    dict2[\"w23\"]=w23 \n",
    "    dict2[\"w34\"]=w34\n",
    "    dict2[\"b1\"]=b1\n",
    "    dict2[\"b2\"]=b2\n",
    "    dict2[\"b3\"]=b3\n",
    "    return dict2"
   ]
  },
  {
   "cell_type": "code",
   "execution_count": 12,
   "id": "f0eef9b5",
   "metadata": {},
   "outputs": [],
   "source": [
    "def main(X,y):\n",
    "    max_iter=8000\n",
    "    alpha=0.01\n",
    "    weights={}\n",
    "    cost_list=[]\n",
    "    weights[\"w12\"]=w12\n",
    "    weights[\"w23\"]=w23 \n",
    "    weights[\"w34\"]=w34\n",
    "    weights[\"b1\"]=b1\n",
    "    weights[\"b2\"]=b2\n",
    "    weights[\"b3\"]=b3\n",
    "    weights['No_of_Iter']=max_iter\n",
    "    while(True):\n",
    "    for i in range(1,X.shape[0]):\n",
    "        d1=forwardPropagation(X[i],y[i],weights)\n",
    "        weights=Backpropagation(X[i],y[i],alpha,d1,weights)\n",
    "        curr_error=d1[\"err\"]\n",
    "    max_iter=max_iter-1\n",
    "    if(max_iter<0):\n",
    "        break\n",
    "    final=d1[\"err\"]\n",
    "    cost_list.append(final)\n",
    "    weights['cost']=cost_list\n",
    "    return weights"
   ]
  },
  {
   "cell_type": "code",
   "execution_count": 13,
   "id": "8a560add",
   "metadata": {},
   "outputs": [
    {
     "name": "stdout",
     "output_type": "stream",
     "text": [
      "[[ 0.3711137   0.210595    1.00925114  0.83423247  0.58366689  0.93226643\n",
      "   0.29850095  0.13036913]\n",
      " [10.21737304 -0.74855195 -0.78933322 -0.74578022 -0.86619994 -0.41454016\n",
      "  -1.04540683 -0.15913803]\n",
      " [ 6.07298276 -0.34829419 -0.53444735 -0.80625151 -0.2434117   6.4428668\n",
      "  -0.12703798 -0.69952115]\n",
      " [-0.03027677  0.49485593  1.0029458   0.71161755  0.94171685  0.7355124\n",
      "   0.23825578  0.70583455]\n",
      " [ 0.0620945   0.78226507  0.23091354  0.33249032  0.82476781  0.47440211\n",
      "   1.0012094   0.97912371]\n",
      " [ 0.86493257 -0.1147134   0.43229828  0.18476735 -0.09237244 -0.36129333\n",
      "   0.75732399  0.69738785]\n",
      " [ 0.66322883  0.74487072  0.84534256  0.78595164  0.34716254  0.84556887\n",
      "   0.58821179  0.31045501]\n",
      " [ 0.96701033  0.13039573  0.59960563  1.03618948  0.48675649  0.55760999\n",
      "   0.14398975  0.47086047]]\n"
     ]
    }
   ],
   "source": [
    "ans=main(train_X,train_Y)\n",
    "u=ans[\"w23\"]\n",
    "print(u)"
   ]
  },
  {
   "cell_type": "code",
   "execution_count": 14,
   "id": "21988e57",
   "metadata": {},
   "outputs": [
    {
     "name": "stdout",
     "output_type": "stream",
     "text": [
      "[[9.79955244e-01]\n",
      " [2.16595461e-02]\n",
      " [6.64860742e-04]]\n",
      "[0]\n"
     ]
    }
   ],
   "source": [
    "from sklearn.metrics import mean_squared_error\n",
    "pred=forwardPropagation(test_X[19],test_Y[19],ans);\n",
    "print(pred[\"a3\"])\n",
    "print(test_Y[19])"
   ]
  },
  {
   "cell_type": "code",
   "execution_count": 16,
   "id": "17b26791",
   "metadata": {},
   "outputs": [
    {
     "data": {
      "text/plain": [
       "(25, 4)"
      ]
     },
     "execution_count": 16,
     "metadata": {},
     "output_type": "execute_result"
    }
   ],
   "source": [
    "test_X.shape"
   ]
  },
  {
   "cell_type": "code",
   "execution_count": 17,
   "id": "87bc5680",
   "metadata": {},
   "outputs": [
    {
     "data": {
      "text/plain": [
       "<function matplotlib.pyplot.show(close=None, block=None)>"
      ]
     },
     "execution_count": 17,
     "metadata": {},
     "output_type": "execute_result"
    },
    {
     "data": {
      "image/png": "[encoded data removed]",
      "text/plain": [
       "<Figure size 432x288 with 1 Axes>"
      ]
     },
     "metadata": {
      "needs_background": "light"
     },
     "output_type": "display_data"
    }
   ],
   "source": [
    "i=ans['No_of_Iter']\n",
    "iter=np.arange(0,i)\n",
    "error=ans['cost']\n",
    "plt.plot(iter,error)\n",
    "plt.xlabel('No_of_iterations')\n",
    "plt.ylabel('Error')\n",
    "plt.show"
   ]
  },
  {
   "cell_type": "markdown",
   "id": "8d2dd04f",
   "metadata": {},
   "source": [
    "Dada la siguiente situación:\n",
    "\n",
    "Los dispositivos electrónicos que se construían a base de transistores en la década de 1990 presentaban dos tipos de fallas principales: la fuente de alimentación y el circuito principal (tarjeta principal). Según las estadísticas de esa época, un taller promedio recibía de manera mensual un 30% de equipos con afectaciones en la fuente de alimentación y la efectividad de la reparación de un equipo era de un 75% si la falla estaba localizada en el circuito principal.\n",
    "\n",
    "Calcula la probabilidad de que un equipo que no tuviera reparación hubiera ingresado al taller por problemas en la tarjeta principal. Implementa tu respuesta mediante código en un Jupyter Notebook de Python.\n"
   ]
  },
  {
   "cell_type": "code",
   "execution_count": 21,
   "id": "adbc3742",
   "metadata": {},
   "outputs": [
    {
     "data": {
      "text/plain": [
       "0.175"
      ]
     },
     "execution_count": 21,
     "metadata": {},
     "output_type": "execute_result"
    }
   ],
   "source": [
    "import numpy as np\n",
    "\n",
    "P_rec_falla_FA = 0.3\n",
    "P_rec_falla_TP = 0.7\n",
    "P_inefectividad_TP = 0.25\n",
    "\n",
    "def p(p1, p2):\n",
    "    p = p1 * p2\n",
    "    return p\n",
    "\n",
    "p(P_rec_falla_TP, P_inefectividad_TP)\n",
    "\n",
    "    \n",
    "    "
   ]
  },
  {
   "cell_type": "markdown",
   "id": "cc97421a",
   "metadata": {},
   "source": [
    "Importa a tu espacio de trabajo el siguiente dataset: https://www.kaggle.com/elikplim/forest-fires-data-set"
   ]
  },
  {
   "cell_type": "code",
   "execution_count": 22,
   "id": "5a1f0bbb",
   "metadata": {},
   "outputs": [
    {
     "name": "stdout",
     "output_type": "stream",
     "text": [
      "(517, 13)\n",
      "   X  Y month  day  FFMC    DMC     DC   ISI  temp  RH  wind  rain  area\n",
      "0  7  5   mar  fri  86.2   26.2   94.3   5.1   8.2  51   6.7   0.0   0.0\n",
      "1  7  4   oct  tue  90.6   35.4  669.1   6.7  18.0  33   0.9   0.0   0.0\n",
      "2  7  4   oct  sat  90.6   43.7  686.9   6.7  14.6  33   1.3   0.0   0.0\n",
      "3  8  6   mar  fri  91.7   33.3   77.5   9.0   8.3  97   4.0   0.2   0.0\n",
      "4  8  6   mar  sun  89.3   51.3  102.2   9.6  11.4  99   1.8   0.0   0.0\n",
      "5  8  6   aug  sun  92.3   85.3  488.0  14.7  22.2  29   5.4   0.0   0.0\n",
      "6  8  6   aug  mon  92.3   88.9  495.6   8.5  24.1  27   3.1   0.0   0.0\n",
      "7  8  6   aug  mon  91.5  145.4  608.2  10.7   8.0  86   2.2   0.0   0.0\n",
      "8  8  6   sep  tue  91.0  129.5  692.6   7.0  13.1  63   5.4   0.0   0.0\n",
      "9  7  5   sep  sat  92.5   88.0  698.6   7.1  22.8  40   4.0   0.0   0.0\n"
     ]
    }
   ],
   "source": [
    "import pandas as pd\n",
    "filename = 'forestfires.csv'\n",
    "data = pd.read_csv(filename, header=0)\n",
    "\n",
    "print(data.shape)\n",
    "print (data.head(10))\n"
   ]
  },
  {
   "cell_type": "code",
   "execution_count": 23,
   "id": "cdafd71e",
   "metadata": {},
   "outputs": [
    {
     "name": "stdout",
     "output_type": "stream",
     "text": [
      "<class 'pandas.core.frame.DataFrame'>\n",
      "RangeIndex: 517 entries, 0 to 516\n",
      "Data columns (total 13 columns):\n",
      " #   Column  Non-Null Count  Dtype  \n",
      "---  ------  --------------  -----  \n",
      " 0   X       517 non-null    int64  \n",
      " 1   Y       517 non-null    int64  \n",
      " 2   month   517 non-null    object \n",
      " 3   day     517 non-null    object \n",
      " 4   FFMC    517 non-null    float64\n",
      " 5   DMC     517 non-null    float64\n",
      " 6   DC      517 non-null    float64\n",
      " 7   ISI     517 non-null    float64\n",
      " 8   temp    517 non-null    float64\n",
      " 9   RH      517 non-null    int64  \n",
      " 10  wind    517 non-null    float64\n",
      " 11  rain    517 non-null    float64\n",
      " 12  area    517 non-null    float64\n",
      "dtypes: float64(8), int64(3), object(2)\n",
      "memory usage: 52.6+ KB\n"
     ]
    }
   ],
   "source": [
    "data.info()"
   ]
  },
  {
   "cell_type": "markdown",
   "id": "cb5aa3cc",
   "metadata": {},
   "source": [
    "Crea un arreglo que contenga los valores de la columna etiquetada por: #temp.\n",
    "\n",
    "Construye el histograma referente al arreglo creado en el punto anterior."
   ]
  },
  {
   "cell_type": "code",
   "execution_count": 24,
   "id": "cbd54e43",
   "metadata": {},
   "outputs": [
    {
     "data": {
      "image/png": "[encoded data removed]",
      "text/plain": [
       "<Figure size 432x288 with 1 Axes>"
      ]
     },
     "metadata": {
      "needs_background": "light"
     },
     "output_type": "display_data"
    }
   ],
   "source": [
    "import matplotlib.pyplot as plt\n",
    "plt.hist(data['temp'], 20 , color = 'skyblue', ec='gray')\n",
    "plt.ylabel('Frecuencia')\n",
    "plt.xlabel('Temp')\n",
    "plt.title('Histograma')\n",
    "plt.show()"
   ]
  },
  {
   "cell_type": "markdown",
   "id": "b1954923",
   "metadata": {},
   "source": [
    "Evalúa si la gráfica obtenida tiene semejanzas con la distribución normal y obtén la media, la mediana y la desviación estándar de los datos"
   ]
  },
  {
   "cell_type": "code",
   "execution_count": 25,
   "id": "fcb3a157",
   "metadata": {},
   "outputs": [
    {
     "name": "stdout",
     "output_type": "stream",
     "text": [
      "18.88916827852998\n",
      "19.3\n",
      "5.806625349573503\n"
     ]
    }
   ],
   "source": [
    "#Si tiene semejanzas con la distribución normal.\n",
    "\n",
    "media = np.mean(data['temp'])\n",
    "print(media)\n",
    "mediana = np.median(data['temp'])\n",
    "print(mediana)\n",
    "desviacion_estandar = data['temp'].std()\n",
    "print(desviacion_estandar)\n"
   ]
  },
  {
   "cell_type": "markdown",
   "id": "42c15ebe",
   "metadata": {},
   "source": [
    "Dibuja la gráfica de la distribución gaussiana inferida por los datos, en caso de que corresponda, y evalúa la suposición realizada en el punto anterior."
   ]
  },
  {
   "cell_type": "code",
   "execution_count": 74,
   "id": "2eb5d988",
   "metadata": {},
   "outputs": [
    {
     "data": {
      "image/png": "[encoded data removed]",
      "text/plain": [
       "<Figure size 432x288 with 1 Axes>"
      ]
     },
     "metadata": {
      "needs_background": "light"
     },
     "output_type": "display_data"
    }
   ],
   "source": [
    "from scipy.stats import norm\n",
    "\n",
    "#dist_normal = 1/(desviacion_estandar * np.sqrt(2 * np.pi)) *np.exp(-(bins - media)**2 / (2 * desviacion_estandar**2) )\n",
    "\n",
    "datos = data['temp']\n",
    "media, desviacion_estandar = norm.fit (datos)\n",
    "\n",
    "plt.hist(datos , color = 'skyblue', ec='gray', bins= 5, density=True)\n",
    "\n",
    "xmin, xmax = plt.xlim()\n",
    "\n",
    "x = np.linspace(xmin, xmax, 100)\n",
    "p = norm.pdf(x, media, desviacion_estandar )\n",
    "\n",
    "plt.plot(x, p, 'k', linewidth=2 , color = 'red')\n",
    "title = \"Fit Values: {:.2f} and {:.2f}\".format(media, desviacion_estandar)\n",
    "plt.title(title)\n",
    "\n",
    "plt.show()\n",
    "#print (dist_normal)\n"
   ]
  },
  {
   "cell_type": "code",
   "execution_count": null,
   "id": "8adfeed7",
   "metadata": {},
   "outputs": [],
   "source": []
  }
 ],
 "metadata": {
  "kernelspec": {
   "display_name": "Python 3 (ipykernel)",
   "language": "python",
   "name": "python3"
  },
  "language_info": {
   "codemirror_mode": {
    "name": "ipython",
    "version": 3
   },
   "file_extension": ".py",
   "mimetype": "text/x-python",
   "name": "python",
   "nbconvert_exporter": "python",
   "pygments_lexer": "ipython3",
   "version": "3.8.8"
  }
 },
 "nbformat": 4,
 "nbformat_minor": 5
}
