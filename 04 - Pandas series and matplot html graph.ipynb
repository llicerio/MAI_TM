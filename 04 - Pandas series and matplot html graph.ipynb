{
 "cells": [
  {
   "cell_type": "code",
   "execution_count": 1,
   "id": "69b42ad8",
   "metadata": {},
   "outputs": [],
   "source": [
    "import matplotlib.pyplot as plt"
   ]
  },
  {
   "cell_type": "code",
   "execution_count": 2,
   "id": "05b89d95",
   "metadata": {},
   "outputs": [],
   "source": [
    "densidad_poblacion = {\n",
    "    'Monterrey' : 1142994 , \n",
    "    'Hermosillo' : 936263 ,\n",
    "    'San Cristobal de las Casas ' : 215874,\n",
    "    'Tuxtla Gutierrez' :  604147 ,\n",
    "    'Veracruz' : 607209 ,\n",
    "    'Tampico' : 297562 , \n",
    "    'Victoria' : 349688 ,\n",
    "    'Celaya' : 521169 ,\n",
    "    'Ecatepec de Morelos' : 1645352 , \n",
    "    'Puebla' : 1692181\n",
    "}"
   ]
  },
  {
   "cell_type": "code",
   "execution_count": 3,
   "id": "197428c8",
   "metadata": {},
   "outputs": [
    {
     "data": {
      "text/plain": [
       "{'Monterrey': 1142994,\n",
       " 'Hermosillo': 936263,\n",
       " 'San Cristobal de las Casas ': 215874,\n",
       " 'Tuxtla Gutierrez': 604147,\n",
       " 'Veracruz': 607209,\n",
       " 'Tampico': 297562,\n",
       " 'Victoria': 349688,\n",
       " 'Celaya': 521169,\n",
       " 'Ecatepec de Morelos': 1645352,\n",
       " 'Puebla': 1692181}"
      ]
     },
     "execution_count": 3,
     "metadata": {},
     "output_type": "execute_result"
    }
   ],
   "source": [
    "densidad_poblacion"
   ]
  },
  {
   "cell_type": "code",
   "execution_count": 4,
   "id": "7078fe32",
   "metadata": {},
   "outputs": [],
   "source": [
    "import pandas as pd\n",
    "\n",
    "ciudades = ['Monterrey','Hermosillo','San Cristobal de las Casas ',\n",
    " 'Tuxtla Gutierrez', 'Veracruz', 'Tampico', 'Victoria',\n",
    " 'Celaya', 'Ecatepec de Morelos','Puebla']\n",
    "           \n",
    "mi_serie = pd.Series(densidad_poblacion, index = ciudades)"
   ]
  },
  {
   "cell_type": "code",
   "execution_count": 5,
   "id": "0f3315c4",
   "metadata": {},
   "outputs": [
    {
     "data": {
      "text/plain": [
       "Monterrey                      1142994\n",
       "Hermosillo                      936263\n",
       "San Cristobal de las Casas      215874\n",
       "Tuxtla Gutierrez                604147\n",
       "Veracruz                        607209\n",
       "Tampico                         297562\n",
       "Victoria                        349688\n",
       "Celaya                          521169\n",
       "Ecatepec de Morelos            1645352\n",
       "Puebla                         1692181\n",
       "dtype: int64"
      ]
     },
     "execution_count": 5,
     "metadata": {},
     "output_type": "execute_result"
    }
   ],
   "source": [
    "mi_serie"
   ]
  },
  {
   "cell_type": "code",
   "execution_count": 6,
   "id": "df5359b3",
   "metadata": {},
   "outputs": [],
   "source": [
    "ciudades = ['Monterrey','Hermosillo','San Cristobal de las Casas ',\n",
    " 'Tuxtla Gutierrez', 'Veracruz', 'Tampico', 'Victoria',\n",
    " 'Celaya', 'Ecatepec de Morelos','Puebla',\n",
    " 'Zacatecas' , 'Campeche' , 'San Luis Potosi'    ]"
   ]
  },
  {
   "cell_type": "code",
   "execution_count": 7,
   "id": "cec84bef",
   "metadata": {},
   "outputs": [],
   "source": [
    "mi_serie = pd.Series(densidad_poblacion, index = ciudades)"
   ]
  },
  {
   "cell_type": "code",
   "execution_count": 8,
   "id": "f998f369",
   "metadata": {},
   "outputs": [
    {
     "data": {
      "text/plain": [
       "Monterrey                      1142994.0\n",
       "Hermosillo                      936263.0\n",
       "San Cristobal de las Casas      215874.0\n",
       "Tuxtla Gutierrez                604147.0\n",
       "Veracruz                        607209.0\n",
       "Tampico                         297562.0\n",
       "Victoria                        349688.0\n",
       "Celaya                          521169.0\n",
       "Ecatepec de Morelos            1645352.0\n",
       "Puebla                         1692181.0\n",
       "Zacatecas                            NaN\n",
       "Campeche                             NaN\n",
       "San Luis Potosi                      NaN\n",
       "dtype: float64"
      ]
     },
     "execution_count": 8,
     "metadata": {},
     "output_type": "execute_result"
    }
   ],
   "source": [
    "mi_serie"
   ]
  },
  {
   "cell_type": "code",
   "execution_count": 9,
   "id": "c8ac4369",
   "metadata": {},
   "outputs": [],
   "source": [
    "from plotly.graph_objs import Bar, Layout\n",
    "from plotly import offline"
   ]
  },
  {
   "cell_type": "code",
   "execution_count": 10,
   "id": "833ad47d",
   "metadata": {},
   "outputs": [
    {
     "data": {
      "text/plain": [
       "[1142994,\n",
       " 936263,\n",
       " 215874,\n",
       " 604147,\n",
       " 607209,\n",
       " 297562,\n",
       " 349688,\n",
       " 521169,\n",
       " 1645352,\n",
       " 1692181]"
      ]
     },
     "execution_count": 10,
     "metadata": {},
     "output_type": "execute_result"
    }
   ],
   "source": [
    "t_poblacion =[]\n",
    "for i in densidad_poblacion:\n",
    "    t_poblacion.append(densidad_poblacion[i])\n",
    "t_poblacion"
   ]
  },
  {
   "cell_type": "code",
   "execution_count": 11,
   "id": "775141be",
   "metadata": {},
   "outputs": [],
   "source": [
    "x_valores = ciudades\n",
    "datos = [Bar(x=x_valores, y=t_poblacion)]"
   ]
  },
  {
   "cell_type": "code",
   "execution_count": 12,
   "id": "6188484b",
   "metadata": {},
   "outputs": [
    {
     "data": {
      "text/plain": [
       "'Poblacion.html'"
      ]
     },
     "execution_count": 12,
     "metadata": {},
     "output_type": "execute_result"
    }
   ],
   "source": [
    "x_eje_config = {'title': 'Ciudad'}\n",
    "y_eje_config = {'title': 'Poblacion'}\n",
    "my_layout = Layout(title='Habitantes por ciudad',\n",
    "\n",
    "xaxis=x_eje_config, yaxis=y_eje_config)\n",
    "\n",
    "offline.plot({'data': datos, 'layout': my_layout}, filename='Poblacion.html')"
   ]
  },
  {
   "cell_type": "code",
   "execution_count": null,
   "id": "4f64b85f",
   "metadata": {},
   "outputs": [],
   "source": []
  }
 ],
 "metadata": {
  "kernelspec": {
   "display_name": "Python 3 (ipykernel)",
   "language": "python",
   "name": "python3"
  },
  "language_info": {
   "codemirror_mode": {
    "name": "ipython",
    "version": 3
   },
   "file_extension": ".py",
   "mimetype": "text/x-python",
   "name": "python",
   "nbconvert_exporter": "python",
   "pygments_lexer": "ipython3",
   "version": "3.8.8"
  }
 },
 "nbformat": 4,
 "nbformat_minor": 5
}
