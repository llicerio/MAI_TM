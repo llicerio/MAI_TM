{
 "cells": [
  {
   "cell_type": "markdown",
   "id": "5e46a24f",
   "metadata": {},
   "source": [
    "## Laura Licerio\n"
   ]
  },
  {
   "cell_type": "markdown",
   "id": "3b6b1398",
   "metadata": {},
   "source": [
    "#### Escribe una lista que contenga un mínimo de cinco elementos"
   ]
  },
  {
   "cell_type": "code",
   "execution_count": 1,
   "id": "bdda2714",
   "metadata": {},
   "outputs": [],
   "source": [
    "Keane_songs = [\"Everybody's changing\", \"Somewhere only we know\", \"Can't stop now\", \"Sunshine\",\"Bend & Break\"]"
   ]
  },
  {
   "cell_type": "code",
   "execution_count": 2,
   "id": "2d447887",
   "metadata": {},
   "outputs": [
    {
     "data": {
      "text/plain": [
       "[\"Everybody's changing\",\n",
       " 'Somewhere only we know',\n",
       " \"Can't stop now\",\n",
       " 'Sunshine',\n",
       " 'Bend & Break']"
      ]
     },
     "execution_count": 2,
     "metadata": {},
     "output_type": "execute_result"
    }
   ],
   "source": [
    "Keane_songs"
   ]
  },
  {
   "cell_type": "markdown",
   "id": "9cd3671d",
   "metadata": {},
   "source": [
    "#### Agrega un nuevo elemento en el índice 2."
   ]
  },
  {
   "cell_type": "code",
   "execution_count": 3,
   "id": "4f78d207",
   "metadata": {},
   "outputs": [],
   "source": [
    "Keane_songs.insert(2,\"This is the last time\")"
   ]
  },
  {
   "cell_type": "code",
   "execution_count": 4,
   "id": "36b25d55",
   "metadata": {},
   "outputs": [
    {
     "name": "stdout",
     "output_type": "stream",
     "text": [
      "[\"Everybody's changing\", 'Somewhere only we know', 'This is the last time', \"Can't stop now\", 'Sunshine', 'Bend & Break']\n"
     ]
    }
   ],
   "source": [
    "print(Keane_songs)"
   ]
  },
  {
   "cell_type": "markdown",
   "id": "829d879c",
   "metadata": {},
   "source": [
    "#### Agrega un elemento al final de la lista."
   ]
  },
  {
   "cell_type": "code",
   "execution_count": 5,
   "id": "ab81f6c2",
   "metadata": {},
   "outputs": [],
   "source": [
    "Keane_songs.append(\"Your eyes open\")"
   ]
  },
  {
   "cell_type": "code",
   "execution_count": 6,
   "id": "c1d82cb9",
   "metadata": {},
   "outputs": [
    {
     "data": {
      "text/plain": [
       "[\"Everybody's changing\",\n",
       " 'Somewhere only we know',\n",
       " 'This is the last time',\n",
       " \"Can't stop now\",\n",
       " 'Sunshine',\n",
       " 'Bend & Break',\n",
       " 'Your eyes open']"
      ]
     },
     "execution_count": 6,
     "metadata": {},
     "output_type": "execute_result"
    }
   ],
   "source": [
    "Keane_songs"
   ]
  },
  {
   "cell_type": "markdown",
   "id": "b5b5d068",
   "metadata": {},
   "source": [
    "#### Escribe una cadena de caracteres que contenga tres palabras."
   ]
  },
  {
   "cell_type": "code",
   "execution_count": 8,
   "id": "3492f298",
   "metadata": {},
   "outputs": [
    {
     "name": "stdout",
     "output_type": "stream",
     "text": [
      "Principio y fin\n"
     ]
    }
   ],
   "source": [
    "mi_cadena =\"Principio y fin\"\n",
    "print (mi_cadena)"
   ]
  },
  {
   "cell_type": "markdown",
   "id": "d32340ea",
   "metadata": {},
   "source": [
    "#### Cuenta los caracteres de la cadena generada."
   ]
  },
  {
   "cell_type": "code",
   "execution_count": 11,
   "id": "e0d53c7f",
   "metadata": {},
   "outputs": [
    {
     "name": "stdout",
     "output_type": "stream",
     "text": [
      "15\n"
     ]
    }
   ],
   "source": [
    "print(len(mi_cadena))"
   ]
  },
  {
   "cell_type": "markdown",
   "id": "5e0dc370",
   "metadata": {},
   "source": [
    "#### Guarda la cadena resultante toda en mayúsculas en una nueva variable."
   ]
  },
  {
   "cell_type": "code",
   "execution_count": 13,
   "id": "9a4560a6",
   "metadata": {},
   "outputs": [
    {
     "data": {
      "text/plain": [
       "'PRINCIPIO Y FIN'"
      ]
     },
     "execution_count": 13,
     "metadata": {},
     "output_type": "execute_result"
    }
   ],
   "source": [
    "mi_cadena_may= mi_cadena.upper()\n",
    "mi_cadena_may"
   ]
  },
  {
   "cell_type": "markdown",
   "id": "08e5f93c",
   "metadata": {},
   "source": [
    "#### Escribe un diccionario que contenga al menos cuatro elementos y cuyos índices coincidan con las primeras letras del alfabeto."
   ]
  },
  {
   "cell_type": "code",
   "execution_count": 15,
   "id": "63c1f9d5",
   "metadata": {},
   "outputs": [
    {
     "data": {
      "text/plain": [
       "{'A': 'Excelente', 'B': 'Muy Bien', 'C': 'Bien', 'D': 'Regular'}"
      ]
     },
     "execution_count": 15,
     "metadata": {},
     "output_type": "execute_result"
    }
   ],
   "source": [
    "calificaciones ={\n",
    "    'A': 'Excelente',\n",
    "    'B': 'Muy Bien',\n",
    "    'C': 'Bien',\n",
    "    'D': 'Regular'\n",
    "}\n",
    "calificaciones"
   ]
  },
  {
   "cell_type": "markdown",
   "id": "bdb94b05",
   "metadata": {},
   "source": [
    "#### Agrega un nuevo elemento al diccionario."
   ]
  },
  {
   "cell_type": "code",
   "execution_count": 16,
   "id": "9bb8f371",
   "metadata": {},
   "outputs": [
    {
     "data": {
      "text/plain": [
       "{'A': 'Excelente', 'B': 'Muy Bien', 'C': 'Bien', 'D': 'Regular', 'E': 'Malo'}"
      ]
     },
     "execution_count": 16,
     "metadata": {},
     "output_type": "execute_result"
    }
   ],
   "source": [
    "calificaciones['E'] ='Malo'\n",
    "calificaciones"
   ]
  },
  {
   "cell_type": "markdown",
   "id": "d0c1c647",
   "metadata": {},
   "source": [
    "#### Elimina el elemento del índice “c”."
   ]
  },
  {
   "cell_type": "code",
   "execution_count": 17,
   "id": "8684c7b7",
   "metadata": {},
   "outputs": [],
   "source": [
    "del calificaciones['C']"
   ]
  },
  {
   "cell_type": "code",
   "execution_count": 18,
   "id": "1bd461fd",
   "metadata": {},
   "outputs": [
    {
     "data": {
      "text/plain": [
       "{'A': 'Excelente', 'B': 'Muy Bien', 'D': 'Regular', 'E': 'Malo'}"
      ]
     },
     "execution_count": 18,
     "metadata": {},
     "output_type": "execute_result"
    }
   ],
   "source": [
    "calificaciones"
   ]
  },
  {
   "cell_type": "markdown",
   "id": "a4bc9fe4",
   "metadata": {},
   "source": [
    "#### Cuenta los elementos que componen el diccionario después de completadas las operaciones anteriores. "
   ]
  },
  {
   "cell_type": "code",
   "execution_count": 19,
   "id": "34f013b3",
   "metadata": {},
   "outputs": [
    {
     "data": {
      "text/plain": [
       "4"
      ]
     },
     "execution_count": 19,
     "metadata": {},
     "output_type": "execute_result"
    }
   ],
   "source": [
    "len(calificaciones)"
   ]
  },
  {
   "cell_type": "code",
   "execution_count": null,
   "id": "8c992d49",
   "metadata": {},
   "outputs": [],
   "source": []
  }
 ],
 "metadata": {
  "kernelspec": {
   "display_name": "Python 3 (ipykernel)",
   "language": "python",
   "name": "python3"
  },
  "language_info": {
   "codemirror_mode": {
    "name": "ipython",
    "version": 3
   },
   "file_extension": ".py",
   "mimetype": "text/x-python",
   "name": "python",
   "nbconvert_exporter": "python",
   "pygments_lexer": "ipython3",
   "version": "3.8.8"
  }
 },
 "nbformat": 4,
 "nbformat_minor": 5
}
