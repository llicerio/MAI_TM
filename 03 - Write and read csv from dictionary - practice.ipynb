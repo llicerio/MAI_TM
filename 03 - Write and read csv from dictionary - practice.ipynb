{
 "cells": [
  {
   "cell_type": "code",
   "execution_count": 41,
   "id": "bdc090d3",
   "metadata": {},
   "outputs": [],
   "source": [
    "valores_dict = [['nombre',''], ['apellido', ''] , ['edad', '']]\n",
    "l_personas=[]"
   ]
  },
  {
   "cell_type": "code",
   "execution_count": 73,
   "id": "b382ef6a",
   "metadata": {},
   "outputs": [],
   "source": [
    "def genera_diccionario(l_personas):\n",
    "    dict_persona = {\n",
    "        \"nombre\" : l_personas[0],\n",
    "        \"apelllido\": l_personas[1],\n",
    "        \"edad\": l_personas[2]\n",
    "                 }\n",
    "    \n",
    "    import csv \n",
    "    from pathlib import Path\n",
    "    import os\n",
    "    \n",
    "    my_file=\"sample.csv\"\n",
    "    \n",
    "    \n",
    "    if os.path.exists(my_file):\n",
    "        a_file = open(\"sample.csv\", \"a\")\n",
    "        writer = csv.writer(a_file)\n",
    "    \n",
    "        for key, value in dict_persona.items():\n",
    "            writer.writerow([key, value])\n",
    "        a_file.close()\n",
    "    else:\n",
    "        a_file = open(\"sample.csv\", \"w\")\n",
    "        writer = csv.writer(a_file)\n",
    "    \n",
    "        for key, value in dict_persona.items():\n",
    "            writer.writerow([key, value])\n",
    "        a_file.close()\n",
    "        \n",
    "        "
   ]
  },
  {
   "cell_type": "code",
   "execution_count": 66,
   "id": "b4f2b958",
   "metadata": {},
   "outputs": [],
   "source": [
    "genera_diccionario(['Ruben','Martinez',50])"
   ]
  },
  {
   "cell_type": "code",
   "execution_count": 74,
   "id": "e71d319e",
   "metadata": {},
   "outputs": [],
   "source": [
    "genera_diccionario(['Maria','Perez',20])"
   ]
  },
  {
   "cell_type": "code",
   "execution_count": 75,
   "id": "9870e0e0",
   "metadata": {},
   "outputs": [],
   "source": [
    "genera_diccionario(['Cristina','Lopez',50])"
   ]
  },
  {
   "cell_type": "code",
   "execution_count": 77,
   "id": "88461d41",
   "metadata": {},
   "outputs": [
    {
     "name": "stdout",
     "output_type": "stream",
     "text": [
      "nombre,Ruben\n",
      "\n",
      "apelllido,Martinez\n",
      "\n",
      "edad,50\n",
      "\n",
      "nombre,Maria\n",
      "\n",
      "apelllido,Perez\n",
      "\n",
      "edad,20\n",
      "\n",
      "nombre,Cristina\n",
      "\n",
      "apelllido,Lopez\n",
      "\n",
      "edad,50\n",
      "\n"
     ]
    }
   ],
   "source": [
    "finput = open('sample.csv', 'rt')\n",
    "lines = finput.readlines()\n",
    "finput.close()\n",
    "for line in lines:\n",
    "    print(line, end='') "
   ]
  },
  {
   "cell_type": "code",
   "execution_count": 81,
   "id": "bcfd776c",
   "metadata": {},
   "outputs": [],
   "source": [
    "class Persona:\n",
    "    \n",
    "    def __init__(self, nombre,apellido, edad):\n",
    "        self.nombre = nombre\n",
    "        self.apellido = apellido\n",
    "        self.edad = edad\n",
    "        "
   ]
  },
  {
   "cell_type": "code",
   "execution_count": 82,
   "id": "2049fb58",
   "metadata": {},
   "outputs": [
    {
     "name": "stdout",
     "output_type": "stream",
     "text": [
      "Mi nombre es Laura Licerio, y tengo 35 años\n"
     ]
    }
   ],
   "source": [
    "yo = Persona ('Laura', 'Licerio', 35)\n",
    "print(f\"Mi nombre es {yo.nombre} {yo.apellido}, y tengo {yo.edad} años\")"
   ]
  },
  {
   "cell_type": "code",
   "execution_count": null,
   "id": "d19644aa",
   "metadata": {},
   "outputs": [],
   "source": []
  }
 ],
 "metadata": {
  "kernelspec": {
   "display_name": "Python 3 (ipykernel)",
   "language": "python",
   "name": "python3"
  },
  "language_info": {
   "codemirror_mode": {
    "name": "ipython",
    "version": 3
   },
   "file_extension": ".py",
   "mimetype": "text/x-python",
   "name": "python",
   "nbconvert_exporter": "python",
   "pygments_lexer": "ipython3",
   "version": "3.8.8"
  }
 },
 "nbformat": 4,
 "nbformat_minor": 5
}
