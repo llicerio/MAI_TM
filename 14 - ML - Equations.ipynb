{
 "cells": [
  {
   "cell_type": "markdown",
   "id": "d6018a58",
   "metadata": {},
   "source": [
    "## Machine Learning"
   ]
  },
  {
   "cell_type": "markdown",
   "id": "b35a72b8",
   "metadata": {},
   "source": [
    "### Laura Licerio"
   ]
  },
  {
   "cell_type": "markdown",
   "id": "211fbad0",
   "metadata": {},
   "source": [
    "Resuelve los siguientes sistemas de ecuaciones:"
   ]
  },
  {
   "attachments": {
    "sistemas%20ecuaciones%20evidencia%201.png": {
     "image/png": "[encoded data removed]"
    }
   },
   "cell_type": "markdown",
   "id": "36ec48d6",
   "metadata": {},
   "source": [
    "![sistemas%20ecuaciones%20evidencia%201.png](attachment:sistemas%20ecuaciones%20evidencia%201.png)"
   ]
  },
  {
   "cell_type": "code",
   "execution_count": 2,
   "id": "08049f1d",
   "metadata": {},
   "outputs": [
    {
     "name": "stdout",
     "output_type": "stream",
     "text": [
      "[[ 8  5  3 -6]\n",
      " [15 -3  4  7]\n",
      " [ 1  6 -2  1]\n",
      " [-2  1  7 -3]]\n"
     ]
    }
   ],
   "source": [
    "#Sistema 1\n",
    "import numpy as np\n",
    "S1_C = np.array([[8,5,3,-6],[15,-3,4,7],[1,6,-2,1],[-2,1,7,-3]])\n",
    "print (S1_C)"
   ]
  },
  {
   "cell_type": "code",
   "execution_count": 3,
   "id": "8e1a929d",
   "metadata": {},
   "outputs": [
    {
     "name": "stdout",
     "output_type": "stream",
     "text": [
      "[[41]\n",
      " [13]\n",
      " [12]\n",
      " [ 0]]\n"
     ]
    }
   ],
   "source": [
    "S1_R = np.array([[41],[13],[12],[0]])\n",
    "print (S1_R)"
   ]
  },
  {
   "cell_type": "code",
   "execution_count": 5,
   "id": "e86c25e4",
   "metadata": {},
   "outputs": [
    {
     "name": "stdout",
     "output_type": "stream",
     "text": [
      "[[ 2.46143637]\n",
      " [ 1.79427813]\n",
      " [-0.55272084]\n",
      " [-2.33254682]]\n"
     ]
    }
   ],
   "source": [
    "S1_Sol = np.linalg.solve(S1_C,S1_R)\n",
    "print (S1_Sol)"
   ]
  },
  {
   "cell_type": "code",
   "execution_count": 7,
   "id": "28462abe",
   "metadata": {},
   "outputs": [
    {
     "name": "stdout",
     "output_type": "stream",
     "text": [
      "[[ 0.05707123  0.03126383 -0.02374281 -0.0491078 ]\n",
      " [-0.00147471 -0.00339183  0.15823625  0.04778056]\n",
      " [-0.02905176  0.03318095  0.01725409  0.1412771 ]\n",
      " [-0.1063265   0.05544905  0.10883351  0.04497862]]\n"
     ]
    }
   ],
   "source": [
    "#Solucion por matriz inversa y producto punto\n",
    "S1_C_Inv = np.linalg.inv(S1_C)\n",
    "print (S1_C_Inv)"
   ]
  },
  {
   "cell_type": "code",
   "execution_count": 8,
   "id": "cc1e4d47",
   "metadata": {},
   "outputs": [
    {
     "name": "stdout",
     "output_type": "stream",
     "text": [
      "[[ 2.46143637]\n",
      " [ 1.79427813]\n",
      " [-0.55272084]\n",
      " [-2.33254682]]\n"
     ]
    }
   ],
   "source": [
    "S1_Sol_b = S1_C_Inv.dot(S1_R)\n",
    "print (S1_Sol_b)"
   ]
  },
  {
   "cell_type": "markdown",
   "id": "8b6b1fa8",
   "metadata": {},
   "source": [
    "La solucion del sistema 1 de ecuaciones es x=2.46143637 , y = 1.79427813 , z = -0.55272084 , w = -2.33254682 "
   ]
  },
  {
   "cell_type": "code",
   "execution_count": 9,
   "id": "c350c1ab",
   "metadata": {},
   "outputs": [
    {
     "name": "stdout",
     "output_type": "stream",
     "text": [
      "[[1 0 4]\n",
      " [5 3 2]\n",
      " [3 4 0]]\n"
     ]
    }
   ],
   "source": [
    "#Sistema 2\n",
    "\n",
    "S2_C = np.array([[1,0,4],[5,3,2],[3,4,0]])\n",
    "print (S2_C)"
   ]
  },
  {
   "cell_type": "code",
   "execution_count": 10,
   "id": "ee3a2110",
   "metadata": {},
   "outputs": [
    {
     "name": "stdout",
     "output_type": "stream",
     "text": [
      "[[ 14]\n",
      " [ 25]\n",
      " [-12]]\n"
     ]
    }
   ],
   "source": [
    "S2_R = np.array([[14],[25],[-12]])\n",
    "print (S2_R)"
   ]
  },
  {
   "cell_type": "code",
   "execution_count": 11,
   "id": "e635a37f",
   "metadata": {},
   "outputs": [
    {
     "name": "stdout",
     "output_type": "stream",
     "text": [
      "[[ 12. ]\n",
      " [-12. ]\n",
      " [  0.5]]\n"
     ]
    }
   ],
   "source": [
    "S2_Sol = np.linalg.solve(S2_C,S2_R)\n",
    "print (S2_Sol)"
   ]
  },
  {
   "cell_type": "code",
   "execution_count": 12,
   "id": "90be92fb",
   "metadata": {},
   "outputs": [
    {
     "name": "stdout",
     "output_type": "stream",
     "text": [
      "[[-0.22222222  0.44444444 -0.33333333]\n",
      " [ 0.16666667 -0.33333333  0.5       ]\n",
      " [ 0.30555556 -0.11111111  0.08333333]]\n"
     ]
    }
   ],
   "source": [
    "#Solucion por matriz inversa y producto punto\n",
    "S2_C_Inv = np.linalg.inv(S2_C)\n",
    "print (S2_C_Inv)"
   ]
  },
  {
   "cell_type": "code",
   "execution_count": 13,
   "id": "ffc876a0",
   "metadata": {},
   "outputs": [
    {
     "name": "stdout",
     "output_type": "stream",
     "text": [
      "[[ 12. ]\n",
      " [-12. ]\n",
      " [  0.5]]\n"
     ]
    }
   ],
   "source": [
    "S2_Sol_b = S2_C_Inv.dot(S2_R)\n",
    "print (S2_Sol_b)"
   ]
  },
  {
   "cell_type": "markdown",
   "id": "3748b931",
   "metadata": {},
   "source": [
    "La solucion del sistema 2 de ecuaciones es x=12 , y = -12 y z = 0.5 "
   ]
  },
  {
   "cell_type": "code",
   "execution_count": null,
   "id": "69fab532",
   "metadata": {},
   "outputs": [],
   "source": []
  }
 ],
 "metadata": {
  "kernelspec": {
   "display_name": "Python 3 (ipykernel)",
   "language": "python",
   "name": "python3"
  },
  "language_info": {
   "codemirror_mode": {
    "name": "ipython",
    "version": 3
   },
   "file_extension": ".py",
   "mimetype": "text/x-python",
   "name": "python",
   "nbconvert_exporter": "python",
   "pygments_lexer": "ipython3",
   "version": "3.8.8"
  }
 },
 "nbformat": 4,
 "nbformat_minor": 5
}
