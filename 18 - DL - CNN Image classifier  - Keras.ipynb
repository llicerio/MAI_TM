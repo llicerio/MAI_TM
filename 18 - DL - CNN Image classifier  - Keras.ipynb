{
 "cells": [
  {
   "cell_type": "code",
   "execution_count": 1,
   "id": "6e82dcc8",
   "metadata": {},
   "outputs": [],
   "source": [
    "import os\n",
    "import re\n",
    "import matplotlib.pyplot as plt\n",
    "%matplotlib inline\n",
    "from sklearn.model_selection import train_test_split\n",
    "from sklearn.metrics import classification_report\n",
    "import keras\n",
    "from keras.utils import to_categorical\n",
    "from keras.models import Sequential,Input,Model\n",
    "from keras.layers import Dense, Dropout, Flatten\n",
    "from keras.layers import Conv2D, MaxPooling2D\n",
    "from keras.layers.normalization import BatchNormalization\n",
    "from keras.layers.advanced_activations import LeakyReLU"
   ]
  },
  {
   "cell_type": "code",
   "execution_count": 29,
   "id": "2588ff25",
   "metadata": {},
   "outputs": [
    {
     "name": "stdout",
     "output_type": "stream",
     "text": [
      "leyendo imagenes de  C:\\Users\\somal\\OneDrive\\Documentos\\Master Inteligencia Artificial\\Deep Learning\\Brain Tumor Data Set\\\n",
      "C:\\Users\\somal\\OneDrive\\Documentos\\Master Inteligencia Artificial\\Deep Learning\\Brain Tumor Data Set\\Brain Tumor 1\n",
      "C:\\Users\\somal\\OneDrive\\Documentos\\Master Inteligencia Artificial\\Deep Learning\\Brain Tumor Data Set\\Healthy 2445\n",
      "Directorios leidos: 2\n",
      "Imagenes en cada directorio [2446, 2080]\n",
      "suma Total de imagenes en subdirs: 4526\n"
     ]
    }
   ],
   "source": [
    "dirname = os.path.join(os.getcwd(), 'Brain Tumor Data Set')\n",
    "imgpath = dirname + os.sep \n",
    "\n",
    "images = []\n",
    "directories = []\n",
    "dircount = []\n",
    "prevRoot=''\n",
    "cant=0\n",
    "\n",
    "print(\"leyendo imagenes de \",imgpath)\n",
    "\n",
    "for root, dirnames, filenames in os.walk(imgpath):\n",
    "    for filename in filenames:\n",
    "        if re.search(\"\\.(jpg|jpeg|png|bmp|tif|tiff)$\", filename):\n",
    "            cant=cant+1\n",
    "            filepath = os.path.join(root, filename)\n",
    "            image = plt.imread(filepath)\n",
    "            images.append(image)\n",
    "            b = \"Leyendo...\" + str(cant)\n",
    "            print (b, end=\"\\r\")\n",
    "            if prevRoot !=root:\n",
    "                print(root, cant)\n",
    "                prevRoot=root\n",
    "                directories.append(root)\n",
    "                dircount.append(cant)\n",
    "                cant=0\n",
    "dircount.append(cant)\n",
    "\n",
    "dircount = dircount[1:]\n",
    "dircount[0]=dircount[0]+1\n",
    "print('Directorios leidos:',len(directories))\n",
    "print(\"Imagenes en cada directorio\", dircount)\n",
    "print('suma Total de imagenes en subdirs:',sum(dircount))"
   ]
  },
  {
   "cell_type": "code",
   "execution_count": 30,
   "id": "da7d6f6e",
   "metadata": {},
   "outputs": [
    {
     "name": "stdout",
     "output_type": "stream",
     "text": [
      "Cantidad etiquetas creadas:  4526\n",
      "0 Brain Tumor\n",
      "1 Healthy\n",
      "Total number of outputs :  2\n",
      "Output classes :  [0 1]\n"
     ]
    }
   ],
   "source": [
    "import numpy as np\n",
    "\n",
    "labels=[]\n",
    "indice=0\n",
    "for cantidad in dircount:\n",
    "    for i in range(cantidad):\n",
    "        labels.append(indice)\n",
    "    indice=indice+1\n",
    "print(\"Cantidad etiquetas creadas: \",len(labels))\n",
    "\n",
    "img_brainxray=[]\n",
    "indice=0\n",
    "for directorio in directories:\n",
    "    name = directorio.split(os.sep)\n",
    "    print(indice , name[len(name)-1])\n",
    "    img_brainxray.append(name[len(name)-1])\n",
    "    indice=indice+1\n",
    "\n",
    "\n",
    "y = np.array(labels)\n",
    "#X = np.array(images, dtype=np.float32) #convierto de lista a numpy\n",
    "\n",
    "# Find the unique numbers from the train labels\n",
    "classes = np.unique(y)\n",
    "nClasses = len(classes)\n",
    "print('Total number of outputs : ', nClasses)\n",
    "print('Output classes : ', classes)\n"
   ]
  },
  {
   "cell_type": "code",
   "execution_count": 23,
   "id": "feb1d492",
   "metadata": {},
   "outputs": [],
   "source": [
    "import tensorflow as tf\n",
    "from tensorflow import keras\n",
    "from keras.preprocessing.image import ImageDataGenerator"
   ]
  },
  {
   "cell_type": "code",
   "execution_count": 24,
   "id": "194892ae",
   "metadata": {},
   "outputs": [],
   "source": [
    "gen = ImageDataGenerator(rescale=1./255,validation_split = 0.2,zoom_range=(0.99,0.99),dtype=tf.float32)"
   ]
  },
  {
   "cell_type": "code",
   "execution_count": 31,
   "id": "45bed936",
   "metadata": {},
   "outputs": [
    {
     "name": "stdout",
     "output_type": "stream",
     "text": [
      "Found 3681 images belonging to 2 classes.\n"
     ]
    }
   ],
   "source": [
    "train = gen.flow_from_directory(dirname,\n",
    "                               target_size = (150,150),\n",
    "                               batch_size = 256,\n",
    "                               class_mode = \"binary\",\n",
    "                               color_mode = \"rgb\",\n",
    "                               shuffle = True,\n",
    "                               seed = 123,\n",
    "                               subset = \"training\")\n",
    "\n"
   ]
  },
  {
   "cell_type": "code",
   "execution_count": 32,
   "id": "6c3d812d",
   "metadata": {},
   "outputs": [
    {
     "name": "stdout",
     "output_type": "stream",
     "text": [
      "Found 919 images belonging to 2 classes.\n"
     ]
    }
   ],
   "source": [
    "val = gen.flow_from_directory(dirname,\n",
    "                               target_size = (150,150),\n",
    "                               batch_size = 8,\n",
    "                               class_mode = \"binary\",\n",
    "                               color_mode = \"rgb\",\n",
    "                               shuffle = True,\n",
    "                               seed = 123,\n",
    "                               subset = \"validation\")"
   ]
  },
  {
   "cell_type": "code",
   "execution_count": 41,
   "id": "20a01264",
   "metadata": {},
   "outputs": [],
   "source": [
    "gen2 = ImageDataGenerator(rescale=1./255,validation_split = 0.2,zoom_range=(0.99,0.99),dtype=tf.float32) "
   ]
  },
  {
   "cell_type": "code",
   "execution_count": 42,
   "id": "1e95e1ba",
   "metadata": {},
   "outputs": [
    {
     "name": "stdout",
     "output_type": "stream",
     "text": [
      "Found 919 images belonging to 2 classes.\n"
     ]
    }
   ],
   "source": [
    "test = gen.flow_from_directory(dirname,\n",
    "                               target_size = (150,150),\n",
    "                               batch_size = 8,\n",
    "                               class_mode = \"binary\",\n",
    "                               color_mode = \"rgb\",\n",
    "                               shuffle = True,\n",
    "                               seed = 123,\n",
    "                               subset = \"validation\")\n"
   ]
  },
  {
   "cell_type": "code",
   "execution_count": 43,
   "id": "56629348",
   "metadata": {},
   "outputs": [],
   "source": [
    "classes = val.class_indices"
   ]
  },
  {
   "cell_type": "code",
   "execution_count": 45,
   "id": "303d28ed",
   "metadata": {},
   "outputs": [
    {
     "name": "stdout",
     "output_type": "stream",
     "text": [
      "{'Brain Tumor': 0, 'Healthy': 1}\n"
     ]
    }
   ],
   "source": [
    "print (classes)"
   ]
  },
  {
   "cell_type": "code",
   "execution_count": 49,
   "id": "2dbc02e9",
   "metadata": {},
   "outputs": [],
   "source": [
    "from keras.layers import Conv2D, MaxPool2D, LeakyReLU, BatchNormalization, Dropout, Dense, InputLayer, Flatten\n",
    "from tensorflow.keras.optimizers import Adam\n",
    "from keras.losses import BinaryCrossentropy\n",
    "\n",
    "model = keras.Sequential()\n",
    "model.add(InputLayer(input_shape=(150,150,3)))\n",
    "model.add(Conv2D(filters=32,kernel_size=3, activation=\"relu\", padding=\"same\"))\n",
    "model.add(MaxPool2D())\n",
    "model.add(Conv2D(filters=64,kernel_size=3, activation=\"relu\", padding=\"same\"))\n",
    "model.add(MaxPool2D())\n",
    "\n",
    "model.add(Flatten())\n",
    "\n",
    "model.add(Dense(128, activation='relu'))\n",
    "model.add(BatchNormalization())\n",
    "model.add(Dropout(rate=0.3))\n",
    "model.add(Dense(64, activation=\"relu\"))\n",
    "model.add(BatchNormalization())\n",
    "model.add(Dropout(rate=0.3))\n",
    "model.add(Dense(1, activation=\"sigmoid\"))\n",
    "\n",
    "\n",
    "model.compile(optimizer=Adam(0.001),loss = BinaryCrossentropy(),metrics=['accuracy'])"
   ]
  },
  {
   "cell_type": "code",
   "execution_count": 51,
   "id": "19ae21fd",
   "metadata": {},
   "outputs": [
    {
     "name": "stdout",
     "output_type": "stream",
     "text": [
      "Model: \"sequential_3\"\n",
      "_________________________________________________________________\n",
      "Layer (type)                 Output Shape              Param #   \n",
      "=================================================================\n",
      "conv2d_4 (Conv2D)            (None, 150, 150, 32)      896       \n",
      "_________________________________________________________________\n",
      "max_pooling2d_4 (MaxPooling2 (None, 75, 75, 32)        0         \n",
      "_________________________________________________________________\n",
      "conv2d_5 (Conv2D)            (None, 75, 75, 64)        18496     \n",
      "_________________________________________________________________\n",
      "max_pooling2d_5 (MaxPooling2 (None, 37, 37, 64)        0         \n",
      "_________________________________________________________________\n",
      "flatten_2 (Flatten)          (None, 87616)             0         \n",
      "_________________________________________________________________\n",
      "dense_6 (Dense)              (None, 128)               11214976  \n",
      "_________________________________________________________________\n",
      "batch_normalization_4 (Batch (None, 128)               512       \n",
      "_________________________________________________________________\n",
      "dropout_4 (Dropout)          (None, 128)               0         \n",
      "_________________________________________________________________\n",
      "dense_7 (Dense)              (None, 64)                8256      \n",
      "_________________________________________________________________\n",
      "batch_normalization_5 (Batch (None, 64)                256       \n",
      "_________________________________________________________________\n",
      "dropout_5 (Dropout)          (None, 64)                0         \n",
      "_________________________________________________________________\n",
      "dense_8 (Dense)              (None, 1)                 65        \n",
      "=================================================================\n",
      "Total params: 11,243,457\n",
      "Trainable params: 11,243,073\n",
      "Non-trainable params: 384\n",
      "_________________________________________________________________\n"
     ]
    }
   ],
   "source": [
    "model.summary()"
   ]
  },
  {
   "cell_type": "code",
   "execution_count": 53,
   "id": "6a3e5c50",
   "metadata": {},
   "outputs": [],
   "source": [
    "from keras import utils, callbacks\n",
    "\n",
    "earlystopping = callbacks.EarlyStopping(monitor=\"val_loss\", mode=\"min\", \n",
    "                                        patience=5, restore_best_weights = True)"
   ]
  },
  {
   "cell_type": "code",
   "execution_count": 54,
   "id": "faf63980",
   "metadata": {},
   "outputs": [
    {
     "name": "stdout",
     "output_type": "stream",
     "text": [
      "Epoch 1/20\n",
      "15/15 [==============================] - 142s 9s/step - loss: 0.6356 - accuracy: 0.6827 - val_loss: 0.5191 - val_accuracy: 0.7552\n",
      "Epoch 2/20\n",
      "15/15 [==============================] - 156s 10s/step - loss: 0.3924 - accuracy: 0.8280 - val_loss: 0.3846 - val_accuracy: 0.8651\n",
      "Epoch 3/20\n",
      "15/15 [==============================] - 154s 10s/step - loss: 0.2283 - accuracy: 0.9125 - val_loss: 0.3753 - val_accuracy: 0.8934\n",
      "Epoch 4/20\n",
      "15/15 [==============================] - 143s 10s/step - loss: 0.1316 - accuracy: 0.9573 - val_loss: 0.3249 - val_accuracy: 0.8945\n",
      "Epoch 5/20\n",
      "15/15 [==============================] - 152s 10s/step - loss: 0.0857 - accuracy: 0.9783 - val_loss: 0.2680 - val_accuracy: 0.9576\n",
      "Epoch 6/20\n",
      "15/15 [==============================] - 150s 10s/step - loss: 0.0608 - accuracy: 0.9851 - val_loss: 0.2944 - val_accuracy: 0.9391\n",
      "Epoch 7/20\n",
      "15/15 [==============================] - 134s 9s/step - loss: 0.0463 - accuracy: 0.9908 - val_loss: 0.2052 - val_accuracy: 0.9793\n",
      "Epoch 8/20\n",
      "15/15 [==============================] - 134s 9s/step - loss: 0.0278 - accuracy: 0.9965 - val_loss: 0.1806 - val_accuracy: 0.9891\n",
      "Epoch 9/20\n",
      "15/15 [==============================] - 133s 9s/step - loss: 0.0226 - accuracy: 0.9970 - val_loss: 0.1140 - val_accuracy: 0.9913\n",
      "Epoch 10/20\n",
      "15/15 [==============================] - 132s 9s/step - loss: 0.0154 - accuracy: 0.9986 - val_loss: 0.1100 - val_accuracy: 0.9891\n",
      "Epoch 11/20\n",
      "15/15 [==============================] - 136s 9s/step - loss: 0.0128 - accuracy: 0.9984 - val_loss: 0.0742 - val_accuracy: 0.9978\n",
      "Epoch 12/20\n",
      "15/15 [==============================] - 133s 9s/step - loss: 0.0097 - accuracy: 0.9986 - val_loss: 0.0642 - val_accuracy: 0.9967\n",
      "Epoch 13/20\n",
      "15/15 [==============================] - 135s 9s/step - loss: 0.0067 - accuracy: 0.9995 - val_loss: 0.0582 - val_accuracy: 0.9978\n",
      "Epoch 14/20\n",
      "15/15 [==============================] - 135s 9s/step - loss: 0.0059 - accuracy: 1.0000 - val_loss: 0.0398 - val_accuracy: 0.9989\n",
      "Epoch 15/20\n",
      "15/15 [==============================] - 140s 9s/step - loss: 0.0038 - accuracy: 1.0000 - val_loss: 0.0318 - val_accuracy: 0.9989\n",
      "Epoch 16/20\n",
      "15/15 [==============================] - 140s 9s/step - loss: 0.0034 - accuracy: 1.0000 - val_loss: 0.0295 - val_accuracy: 0.9989\n",
      "Epoch 17/20\n",
      "15/15 [==============================] - 145s 10s/step - loss: 0.0041 - accuracy: 0.9995 - val_loss: 0.0241 - val_accuracy: 0.9989\n",
      "Epoch 18/20\n",
      "15/15 [==============================] - 136s 9s/step - loss: 0.0030 - accuracy: 1.0000 - val_loss: 0.0217 - val_accuracy: 0.9978\n",
      "Epoch 19/20\n",
      "15/15 [==============================] - 135s 9s/step - loss: 0.0021 - accuracy: 1.0000 - val_loss: 0.0170 - val_accuracy: 0.9989\n",
      "Epoch 20/20\n",
      "15/15 [==============================] - 188s 13s/step - loss: 0.0030 - accuracy: 0.9995 - val_loss: 0.0166 - val_accuracy: 0.9989\n"
     ]
    }
   ],
   "source": [
    "history = model.fit(train,verbose=1,callbacks = [earlystopping],epochs=20,validation_data=(val))"
   ]
  },
  {
   "cell_type": "code",
   "execution_count": 55,
   "id": "54f53760",
   "metadata": {},
   "outputs": [
    {
     "data": {
      "text/plain": [
       "Text(0, 0.5, 'Accuracy')"
      ]
     },
     "execution_count": 55,
     "metadata": {},
     "output_type": "execute_result"
    },
    {
     "data": {
      "image/png": "[encoded data removed]",
      "text/plain": [
       "<Figure size 432x288 with 1 Axes>"
      ]
     },
     "metadata": {
      "needs_background": "light"
     },
     "output_type": "display_data"
    }
   ],
   "source": [
    "plt.plot(history.history['accuracy'], label='accuracy')\n",
    "plt.plot(history.history['val_accuracy'], label = 'val_accuracy')\n",
    "plt.xlabel('Epoch')\n",
    "plt.ylabel('Accuracy')"
   ]
  },
  {
   "cell_type": "code",
   "execution_count": 56,
   "id": "67c3f1f0",
   "metadata": {},
   "outputs": [
    {
     "data": {
      "text/plain": [
       "Text(0, 0.5, 'Loss')"
      ]
     },
     "execution_count": 56,
     "metadata": {},
     "output_type": "execute_result"
    },
    {
     "data": {
      "image/png": "[encoded data removed]",
      "text/plain": [
       "<Figure size 432x288 with 1 Axes>"
      ]
     },
     "metadata": {
      "needs_background": "light"
     },
     "output_type": "display_data"
    }
   ],
   "source": [
    "plt.plot(history.history['loss'], label='loss')\n",
    "plt.plot(history.history['val_loss'], label = 'val_loss')\n",
    "plt.xlabel('Epoch')\n",
    "plt.ylabel('Loss')"
   ]
  },
  {
   "cell_type": "code",
   "execution_count": 58,
   "id": "6a96ecee",
   "metadata": {},
   "outputs": [
    {
     "name": "stdout",
     "output_type": "stream",
     "text": [
      "115/115 [==============================] - 18s 156ms/step - loss: 0.0166 - accuracy: 0.9989\n",
      "test loss, test acc: [0.01663965731859207, 0.9989118576049805]\n"
     ]
    }
   ],
   "source": [
    "test_eval = model.evaluate(test, batch_size=128)\n",
    "\n",
    "print(\"test loss, test acc:\", test_eval)\n"
   ]
  },
  {
   "cell_type": "code",
   "execution_count": null,
   "id": "02ab4cd4",
   "metadata": {},
   "outputs": [],
   "source": []
  }
 ],
 "metadata": {
  "kernelspec": {
   "display_name": "Python 3 (ipykernel)",
   "language": "python",
   "name": "python3"
  },
  "language_info": {
   "codemirror_mode": {
    "name": "ipython",
    "version": 3
   },
   "file_extension": ".py",
   "mimetype": "text/x-python",
   "name": "python",
   "nbconvert_exporter": "python",
   "pygments_lexer": "ipython3",
   "version": "3.8.8"
  }
 },
 "nbformat": 4,
 "nbformat_minor": 5
}
