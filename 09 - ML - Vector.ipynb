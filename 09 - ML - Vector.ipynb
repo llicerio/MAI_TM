{
 "cells": [
  {
   "cell_type": "markdown",
   "id": "b5519ded",
   "metadata": {},
   "source": [
    "## Machine Learning"
   ]
  },
  {
   "cell_type": "markdown",
   "id": "6b07dcfb",
   "metadata": {},
   "source": [
    "### Laura Licerio"
   ]
  },
  {
   "cell_type": "code",
   "execution_count": 2,
   "id": "b8f641cb",
   "metadata": {},
   "outputs": [
    {
     "data": {
      "image/png": "[encoded data removed]",
      "text/plain": [
       "<Figure size 432x288 with 1 Axes>"
      ]
     },
     "metadata": {
      "needs_background": "light"
     },
     "output_type": "display_data"
    }
   ],
   "source": [
    "#Genera dos vectores en R2 y represéntalos en un plano utilizando la librería Matplotlib.\n",
    "import matplotlib.pyplot as plot\n",
    "\n",
    "plot.quiver([0, 0],[0,0] , [1,7] ,[2, 3], units='xy', scale=200) \n",
    "plot.xlim=(-5, 30) \n",
    "plot.ylim=(-5, 30) \n",
    "  \n",
    "plot.grid() \n",
    "plot.show() "
   ]
  },
  {
   "cell_type": "code",
   "execution_count": null,
   "id": "a6c3cae9",
   "metadata": {},
   "outputs": [],
   "source": [
    "#Calcula el producto punto entre los vectores generados.\n",
    "import numpy as np\n",
    "x=[1,2]\n",
    "y=[7,3]\n",
    "dotp = np.dot(x,y)\n",
    "print(dotp)"
   ]
  },
  {
   "cell_type": "code",
   "execution_count": null,
   "id": "6428e16b",
   "metadata": {},
   "outputs": [],
   "source": [
    "#Calcula la longitud de ambos vectores.\n",
    "v1=np.array([[1],[2]])\n",
    "longitud_v1 = np.sqrt(np.dot(v1.T,v1))\n",
    "print(longitud_v1)"
   ]
  },
  {
   "cell_type": "code",
   "execution_count": null,
   "id": "f00a77f0",
   "metadata": {},
   "outputs": [],
   "source": [
    "v2=np.array([[7],[3]])\n",
    "longitud_v2 = np.sqrt(np.dot(v2.T, v2))\n",
    "print(longitud_v2)"
   ]
  },
  {
   "cell_type": "code",
   "execution_count": null,
   "id": "cd29a194",
   "metadata": {},
   "outputs": [],
   "source": [
    "#Encuentra el ángulo que forman los vectores entre sí \n",
    "#y genera un nuevo vector que sea ortogonal a cualquiera de los dos primeros\n",
    "x1=np.array([1,2])\n",
    "y1=np.array([7,3])\n",
    "Lx=np.sqrt(x1.dot(x1))\n",
    "Ly=np.sqrt(y1.dot(y1))\n",
    "cos_angle=x1.dot(y1)/(Lx*Ly)\n",
    "angle=np.arccos(cos_angle)\n",
    "angle_g=angle*360/2/np.pi\n",
    "print(angle_g)"
   ]
  },
  {
   "cell_type": "code",
   "execution_count": null,
   "id": "10870aa8",
   "metadata": {},
   "outputs": [],
   "source": [
    "#un vector es ortogonal a otro si el producto punto es 0\n",
    "z=[3,-7]\n",
    "v_ort= np.dot(y,z)\n",
    "print (v_ort)"
   ]
  },
  {
   "cell_type": "code",
   "execution_count": 9,
   "id": "893508e6",
   "metadata": {},
   "outputs": [
    {
     "name": "stdout",
     "output_type": "stream",
     "text": [
      "[[5]\n",
      " [3]]\n",
      "[[-2]\n",
      " [ 7]]\n"
     ]
    }
   ],
   "source": [
    "#Sea el vector base   que genera el subespacio unidimensional  . \n",
    "#Encuentra el valor de la coordenada  , la proyección  , y la matriz   para proyectar sobre el subespacio   el vector   \n",
    "import numpy as np\n",
    "v_b = np.vstack([5,3])\n",
    "v_x = np.vstack([-2,7])\n",
    "print (v_b)\n",
    "print (v_x)"
   ]
  },
  {
   "cell_type": "code",
   "execution_count": 10,
   "id": "42060aea",
   "metadata": {},
   "outputs": [
    {
     "name": "stdout",
     "output_type": "stream",
     "text": [
      "[[0.32352941]]\n"
     ]
    }
   ],
   "source": [
    "coordenada = np.dot(v_b.T, v_x) /  np.linalg.norm(v_b)**2\n",
    "print(coordenada)"
   ]
  },
  {
   "cell_type": "code",
   "execution_count": 11,
   "id": "b50fdffb",
   "metadata": {},
   "outputs": [
    {
     "name": "stdout",
     "output_type": "stream",
     "text": [
      "[[1.61764706]\n",
      " [0.97058824]]\n"
     ]
    }
   ],
   "source": [
    "vector_proyectado = v_b * coordenada\n",
    "print (vector_proyectado)"
   ]
  },
  {
   "cell_type": "code",
   "execution_count": 13,
   "id": "ecd43571",
   "metadata": {},
   "outputs": [
    {
     "name": "stdout",
     "output_type": "stream",
     "text": [
      "[[0.73529412 0.44117647]\n",
      " [0.44117647 0.26470588]]\n"
     ]
    }
   ],
   "source": [
    "matriz_proyeccion = np.dot(v_b,v_b.T) / np.linalg.norm(v_b)**2 \n",
    "print(matriz_proyeccion)"
   ]
  },
  {
   "cell_type": "code",
   "execution_count": 15,
   "id": "7fe2b5ee",
   "metadata": {},
   "outputs": [
    {
     "name": "stdout",
     "output_type": "stream",
     "text": [
      "[[ 2  5 12 40]\n",
      " [ 7 11 32 56]\n",
      " [65 22 11 80]\n",
      " [90 72 24 17]]\n"
     ]
    }
   ],
   "source": [
    "#oGenera una matriz cuadrada con n>3   y calcula su determinante y su traza.\n",
    "\n",
    "matriz_cuadrada = np.array([[2,5,12,40],[7,11,32,56],[65,22,11,80],[90,72,24,17]])\n",
    "print (matriz_cuadrada)"
   ]
  },
  {
   "cell_type": "code",
   "execution_count": 17,
   "id": "98612135",
   "metadata": {},
   "outputs": [
    {
     "name": "stdout",
     "output_type": "stream",
     "text": [
      "-1761899.000000004\n"
     ]
    }
   ],
   "source": [
    "determinante_matriz_cuadrada = np.linalg.det(matriz_cuadrada)\n",
    "print (determinante_matriz_cuadrada)"
   ]
  },
  {
   "cell_type": "code",
   "execution_count": 18,
   "id": "92ddc325",
   "metadata": {},
   "outputs": [
    {
     "name": "stdout",
     "output_type": "stream",
     "text": [
      "41\n"
     ]
    }
   ],
   "source": [
    "traza = np.trace(matriz_cuadrada)\n",
    "print (traza)"
   ]
  },
  {
   "cell_type": "code",
   "execution_count": 19,
   "id": "1b1d3d3e",
   "metadata": {},
   "outputs": [
    {
     "name": "stdout",
     "output_type": "stream",
     "text": [
      "4\n"
     ]
    }
   ],
   "source": [
    "#Calcula el rango de la matriz generada y los valores de los coeficientes de su polinomio característico.\n",
    "rango = np.linalg.matrix_rank(matriz_cuadrada)\n",
    "print (rango)"
   ]
  },
  {
   "cell_type": "code",
   "execution_count": 20,
   "id": "6fed6e66",
   "metadata": {},
   "outputs": [
    {
     "name": "stdout",
     "output_type": "stream",
     "text": [
      "[ 1.000000e+00 -4.100000e+01 -1.049800e+04 -2.305710e+05 -1.761899e+06]\n"
     ]
    }
   ],
   "source": [
    "coeficientes = np.poly(matriz_cuadrada)\n",
    "print (coeficientes)"
   ]
  },
  {
   "cell_type": "code",
   "execution_count": 21,
   "id": "57798363",
   "metadata": {},
   "outputs": [
    {
     "name": "stdout",
     "output_type": "stream",
     "text": [
      "[133.39694502+0.j         -68.54818795+0.j\n",
      " -11.92437854+7.10565336j -11.92437854-7.10565336j]\n"
     ]
    }
   ],
   "source": [
    "raices = np.roots(coeficientes)\n",
    "print(raices)"
   ]
  },
  {
   "cell_type": "code",
   "execution_count": 27,
   "id": "d0ff298f",
   "metadata": {},
   "outputs": [
    {
     "name": "stdout",
     "output_type": "stream",
     "text": [
      "[[5 1]\n",
      " [2 2]]\n"
     ]
    }
   ],
   "source": [
    "#Calcula los autovalores y autovectores de la matriz\n",
    "#realiza su autodescomposición y grafica los resultados obtenidos en un plano con Matplotlib.\n",
    "\n",
    "A = np.array([[5,1],[2,2]])\n",
    "print (A)"
   ]
  },
  {
   "cell_type": "code",
   "execution_count": 28,
   "id": "c39939ae",
   "metadata": {},
   "outputs": [
    {
     "name": "stdout",
     "output_type": "stream",
     "text": [
      "[5.56155281 1.43844719]\n"
     ]
    }
   ],
   "source": [
    "autovalores = np.linalg.eig(A)[0]\n",
    "print (autovalores)\n"
   ]
  },
  {
   "cell_type": "code",
   "execution_count": 30,
   "id": "bf8bd74d",
   "metadata": {},
   "outputs": [
    {
     "name": "stdout",
     "output_type": "stream",
     "text": [
      "[[ 0.87192821 -0.27032301]\n",
      " [ 0.48963374  0.96276969]]\n"
     ]
    }
   ],
   "source": [
    "autovectores = np.linalg.eig(A)[1]\n",
    "print (autovectores)\n"
   ]
  },
  {
   "cell_type": "code",
   "execution_count": 31,
   "id": "8580c19d",
   "metadata": {},
   "outputs": [
    {
     "name": "stdout",
     "output_type": "stream",
     "text": [
      "[[ 5.56155281e+00 -2.22044605e-16]\n",
      " [-1.11022302e-16  1.43844719e+00]]\n"
     ]
    }
   ],
   "source": [
    "Descomposicion = np.linalg.inv(autovectores)@A@autovectores\n",
    "print (Descomposicion)"
   ]
  },
  {
   "cell_type": "code",
   "execution_count": 33,
   "id": "fdfb7790",
   "metadata": {},
   "outputs": [
    {
     "data": {
      "image/png": "[encoded data removed]",
      "text/plain": [
       "<Figure size 432x288 with 1 Axes>"
      ]
     },
     "metadata": {
      "needs_background": "light"
     },
     "output_type": "display_data"
    }
   ],
   "source": [
    "import matplotlib.pyplot as plt\n",
    "\n",
    "def matrixToPlot(matrix):\n",
    "    origin2D = np.vstack([0,0])  \n",
    "    # círculo unitario\n",
    "    x = np.linspace(-1, 1, 100000)\n",
    "    y = np.sqrt(1-(x**2))\n",
    "\n",
    "    # circulo modificado (separando las partes positivas y negativas)\n",
    "    x1 = matrix[0,0]*x + matrix[0,1]*y\n",
    "    y1 = matrix[1,0]*x + matrix[1,1]*y\n",
    "    x1_neg = matrix[0,0]*x - matrix[0,1]*y\n",
    "    y1_neg = matrix[1,0]*x - matrix[1,1]*y\n",
    "\n",
    "    # Vectores\n",
    "    u1 = [matrix[0,0],matrix[1,0]]\n",
    "    v1 = [matrix[0,1],matrix[1,1]]\n",
    "    plt.quiver(*origin2D, *u1, angles='xy', scale_units='xy', scale=1,color=\"gold\")\n",
    "    plt.quiver(*origin2D, *v1, angles='xy', scale_units='xy', scale=1,color=\"red\")\n",
    "    plt.plot(x1, y1, 'g', alpha=0.5)\n",
    "    plt.plot(x1_neg, y1_neg, 'g', alpha=0.5)\n",
    "\n",
    "matrixToPlot(np.array([[1, 0], [0, 1]]))\n",
    "plt.xlim(-1.5, 1.5)\n",
    "plt.ylim(-1.5, 1.5)\n",
    "plt.show()\n",
    "\n",
    "\n"
   ]
  },
  {
   "cell_type": "code",
   "execution_count": 35,
   "id": "e558754c",
   "metadata": {},
   "outputs": [
    {
     "name": "stdout",
     "output_type": "stream",
     "text": [
      "[[-0.89442719 -0.4472136 ]\n",
      " [-0.4472136   0.89442719]]\n",
      "[5.65685425 1.41421356]\n",
      "[[-0.9486833  -0.31622777]\n",
      " [-0.31622777  0.9486833 ]]\n"
     ]
    }
   ],
   "source": [
    "U, D, V = np.linalg.svd(A)\n",
    "print(U)\n",
    "print(D)\n",
    "print(V)"
   ]
  },
  {
   "cell_type": "code",
   "execution_count": 36,
   "id": "944225db",
   "metadata": {},
   "outputs": [
    {
     "data": {
      "image/png": "[encoded data removed]",
      "text/plain": [
       "<Figure size 432x288 with 1 Axes>"
      ]
     },
     "metadata": {
      "needs_background": "light"
     },
     "output_type": "display_data"
    }
   ],
   "source": [
    "matrixToPlot(V)\n",
    "plt.xlim(-1.5, 1.5)\n",
    "plt.ylim(-1.5, 1.5)\n",
    "plt.show()"
   ]
  },
  {
   "cell_type": "code",
   "execution_count": 37,
   "id": "b3f6720f",
   "metadata": {},
   "outputs": [
    {
     "data": {
      "image/png": "[encoded data removed]",
      "text/plain": [
       "<Figure size 432x288 with 1 Axes>"
      ]
     },
     "metadata": {
      "needs_background": "light"
     },
     "output_type": "display_data"
    }
   ],
   "source": [
    "matrixToPlot(np.diag(D).dot(V))\n",
    "plt.xlim(-9, 9)\n",
    "plt.ylim(-9, 9)\n",
    "plt.show()"
   ]
  },
  {
   "cell_type": "code",
   "execution_count": 38,
   "id": "6dec4549",
   "metadata": {},
   "outputs": [
    {
     "data": {
      "image/png": "[encoded data removed]",
      "text/plain": [
       "<Figure size 432x288 with 1 Axes>"
      ]
     },
     "metadata": {
      "needs_background": "light"
     },
     "output_type": "display_data"
    }
   ],
   "source": [
    "matrixToPlot(U.dot(np.diag(D)).dot(V))\n",
    "plt.xlim(-8, 8)\n",
    "plt.ylim(-8, 8)\n",
    "plt.show()"
   ]
  },
  {
   "cell_type": "code",
   "execution_count": null,
   "id": "5c1cdc3a",
   "metadata": {},
   "outputs": [],
   "source": []
  }
 ],
 "metadata": {
  "kernelspec": {
   "display_name": "Python 3 (ipykernel)",
   "language": "python",
   "name": "python3"
  },
  "language_info": {
   "codemirror_mode": {
    "name": "ipython",
    "version": 3
   },
   "file_extension": ".py",
   "mimetype": "text/x-python",
   "name": "python",
   "nbconvert_exporter": "python",
   "pygments_lexer": "ipython3",
   "version": "3.8.8"
  }
 },
 "nbformat": 4,
 "nbformat_minor": 5
}
