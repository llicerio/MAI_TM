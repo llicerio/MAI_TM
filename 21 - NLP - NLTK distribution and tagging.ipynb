{
 "cells": [
  {
   "cell_type": "code",
   "execution_count": 1,
   "id": "bb4c67ef",
   "metadata": {},
   "outputs": [],
   "source": [
    "import nltk"
   ]
  },
  {
   "cell_type": "code",
   "execution_count": 2,
   "id": "0fae7c3c",
   "metadata": {},
   "outputs": [
    {
     "name": "stderr",
     "output_type": "stream",
     "text": [
      "[nltk_data] Downloading package tagsets to\n",
      "[nltk_data]     C:\\Users\\somal\\AppData\\Roaming\\nltk_data...\n",
      "[nltk_data]   Unzipping help\\tagsets.zip.\n"
     ]
    },
    {
     "data": {
      "text/plain": [
       "True"
      ]
     },
     "execution_count": 2,
     "metadata": {},
     "output_type": "execute_result"
    }
   ],
   "source": [
    "nltk.download('tagsets')"
   ]
  },
  {
   "cell_type": "code",
   "execution_count": 3,
   "id": "1541773d",
   "metadata": {},
   "outputs": [
    {
     "name": "stderr",
     "output_type": "stream",
     "text": [
      "[nltk_data] Downloading package brown to\n",
      "[nltk_data]     C:\\Users\\somal\\AppData\\Roaming\\nltk_data...\n",
      "[nltk_data]   Package brown is already up-to-date!\n"
     ]
    },
    {
     "data": {
      "text/plain": [
       "True"
      ]
     },
     "execution_count": 3,
     "metadata": {},
     "output_type": "execute_result"
    }
   ],
   "source": [
    "nltk.download('brown')"
   ]
  },
  {
   "cell_type": "code",
   "execution_count": 4,
   "id": "72d581da",
   "metadata": {},
   "outputs": [
    {
     "name": "stderr",
     "output_type": "stream",
     "text": [
      "[nltk_data] Downloading package universal_tagset to\n",
      "[nltk_data]     C:\\Users\\somal\\AppData\\Roaming\\nltk_data...\n",
      "[nltk_data]   Unzipping taggers\\universal_tagset.zip.\n"
     ]
    },
    {
     "data": {
      "text/plain": [
       "True"
      ]
     },
     "execution_count": 4,
     "metadata": {},
     "output_type": "execute_result"
    }
   ],
   "source": [
    "nltk.download('universal_tagset')"
   ]
  },
  {
   "cell_type": "code",
   "execution_count": 5,
   "id": "60c0bf75",
   "metadata": {},
   "outputs": [],
   "source": [
    "#importar corpus brown\n",
    "from nltk.corpus import brown"
   ]
  },
  {
   "cell_type": "code",
   "execution_count": 6,
   "id": "bd0191a5",
   "metadata": {},
   "outputs": [],
   "source": [
    "#modulo para entrenar el modelo HMM y las secuencias de etiquetas\n",
    "\n",
    "from nltk.tag.hmm import HiddenMarkovModelTagger"
   ]
  },
  {
   "cell_type": "code",
   "execution_count": 7,
   "id": "1f94362a",
   "metadata": {},
   "outputs": [],
   "source": [
    "#modulo para calcular la distribucion de frecuencias condicionales\n",
    "from nltk.probability import ConditionalFreqDist\n"
   ]
  },
  {
   "cell_type": "code",
   "execution_count": 8,
   "id": "ebbe9b0b",
   "metadata": {},
   "outputs": [],
   "source": [
    "#modulo para calcular la distribucion de probabilidad condicional\n",
    "from nltk.probability import ConditionalProbDist\n"
   ]
  },
  {
   "cell_type": "code",
   "execution_count": 9,
   "id": "cecef57e",
   "metadata": {},
   "outputs": [],
   "source": [
    "#modulo para calcular la distribucion de probabilidad con un estimador de máxima verosimilitud\n",
    "from nltk.probability import  MLEProbDist"
   ]
  },
  {
   "cell_type": "code",
   "execution_count": 10,
   "id": "d3bfb24a",
   "metadata": {},
   "outputs": [],
   "source": [
    "#modulo pretty printing\n",
    "import pprint"
   ]
  },
  {
   "cell_type": "code",
   "execution_count": 13,
   "id": "7f002561",
   "metadata": {},
   "outputs": [],
   "source": [
    "pp = pprint.PrettyPrinter(indent=4)"
   ]
  },
  {
   "cell_type": "code",
   "execution_count": 14,
   "id": "e94e55ee",
   "metadata": {},
   "outputs": [
    {
     "name": "stdout",
     "output_type": "stream",
     "text": [
      "$: dollar\n",
      "    $ -$ --$ A$ C$ HK$ M$ NZ$ S$ U.S.$ US$\n",
      "'': closing quotation mark\n",
      "    ' ''\n",
      "(: opening parenthesis\n",
      "    ( [ {\n",
      "): closing parenthesis\n",
      "    ) ] }\n",
      ",: comma\n",
      "    ,\n",
      "--: dash\n",
      "    --\n",
      ".: sentence terminator\n",
      "    . ! ?\n",
      ":: colon or ellipsis\n",
      "    : ; ...\n",
      "CC: conjunction, coordinating\n",
      "    & 'n and both but either et for less minus neither nor or plus so\n",
      "    therefore times v. versus vs. whether yet\n",
      "CD: numeral, cardinal\n",
      "    mid-1890 nine-thirty forty-two one-tenth ten million 0.5 one forty-\n",
      "    seven 1987 twenty '79 zero two 78-degrees eighty-four IX '60s .025\n",
      "    fifteen 271,124 dozen quintillion DM2,000 ...\n",
      "DT: determiner\n",
      "    all an another any both del each either every half la many much nary\n",
      "    neither no some such that the them these this those\n",
      "EX: existential there\n",
      "    there\n",
      "FW: foreign word\n",
      "    gemeinschaft hund ich jeux habeas Haementeria Herr K'ang-si vous\n",
      "    lutihaw alai je jour objets salutaris fille quibusdam pas trop Monte\n",
      "    terram fiche oui corporis ...\n",
      "IN: preposition or conjunction, subordinating\n",
      "    astride among uppon whether out inside pro despite on by throughout\n",
      "    below within for towards near behind atop around if like until below\n",
      "    next into if beside ...\n",
      "JJ: adjective or numeral, ordinal\n",
      "    third ill-mannered pre-war regrettable oiled calamitous first separable\n",
      "    ectoplasmic battery-powered participatory fourth still-to-be-named\n",
      "    multilingual multi-disciplinary ...\n",
      "JJR: adjective, comparative\n",
      "    bleaker braver breezier briefer brighter brisker broader bumper busier\n",
      "    calmer cheaper choosier cleaner clearer closer colder commoner costlier\n",
      "    cozier creamier crunchier cuter ...\n",
      "JJS: adjective, superlative\n",
      "    calmest cheapest choicest classiest cleanest clearest closest commonest\n",
      "    corniest costliest crassest creepiest crudest cutest darkest deadliest\n",
      "    dearest deepest densest dinkiest ...\n",
      "LS: list item marker\n",
      "    A A. B B. C C. D E F First G H I J K One SP-44001 SP-44002 SP-44005\n",
      "    SP-44007 Second Third Three Two * a b c d first five four one six three\n",
      "    two\n",
      "MD: modal auxiliary\n",
      "    can cannot could couldn't dare may might must need ought shall should\n",
      "    shouldn't will would\n",
      "NN: noun, common, singular or mass\n",
      "    common-carrier cabbage knuckle-duster Casino afghan shed thermostat\n",
      "    investment slide humour falloff slick wind hyena override subhumanity\n",
      "    machinist ...\n",
      "NNP: noun, proper, singular\n",
      "    Motown Venneboerger Czestochwa Ranzer Conchita Trumplane Christos\n",
      "    Oceanside Escobar Kreisler Sawyer Cougar Yvette Ervin ODI Darryl CTCA\n",
      "    Shannon A.K.C. Meltex Liverpool ...\n",
      "NNPS: noun, proper, plural\n",
      "    Americans Americas Amharas Amityvilles Amusements Anarcho-Syndicalists\n",
      "    Andalusians Andes Andruses Angels Animals Anthony Antilles Antiques\n",
      "    Apache Apaches Apocrypha ...\n",
      "NNS: noun, common, plural\n",
      "    undergraduates scotches bric-a-brac products bodyguards facets coasts\n",
      "    divestitures storehouses designs clubs fragrances averages\n",
      "    subjectivists apprehensions muses factory-jobs ...\n",
      "PDT: pre-determiner\n",
      "    all both half many quite such sure this\n",
      "POS: genitive marker\n",
      "    ' 's\n",
      "PRP: pronoun, personal\n",
      "    hers herself him himself hisself it itself me myself one oneself ours\n",
      "    ourselves ownself self she thee theirs them themselves they thou thy us\n",
      "PRP$: pronoun, possessive\n",
      "    her his mine my our ours their thy your\n",
      "RB: adverb\n",
      "    occasionally unabatingly maddeningly adventurously professedly\n",
      "    stirringly prominently technologically magisterially predominately\n",
      "    swiftly fiscally pitilessly ...\n",
      "RBR: adverb, comparative\n",
      "    further gloomier grander graver greater grimmer harder harsher\n",
      "    healthier heavier higher however larger later leaner lengthier less-\n",
      "    perfectly lesser lonelier longer louder lower more ...\n",
      "RBS: adverb, superlative\n",
      "    best biggest bluntest earliest farthest first furthest hardest\n",
      "    heartiest highest largest least less most nearest second tightest worst\n",
      "RP: particle\n",
      "    aboard about across along apart around aside at away back before behind\n",
      "    by crop down ever fast for forth from go high i.e. in into just later\n",
      "    low more off on open out over per pie raising start teeth that through\n",
      "    under unto up up-pp upon whole with you\n",
      "SYM: symbol\n",
      "    % & ' '' ''. ) ). * + ,. < = > @ A[fj] U.S U.S.S.R * ** ***\n",
      "TO: \"to\" as preposition or infinitive marker\n",
      "    to\n",
      "UH: interjection\n",
      "    Goodbye Goody Gosh Wow Jeepers Jee-sus Hubba Hey Kee-reist Oops amen\n",
      "    huh howdy uh dammit whammo shucks heck anyways whodunnit honey golly\n",
      "    man baby diddle hush sonuvabitch ...\n",
      "VB: verb, base form\n",
      "    ask assemble assess assign assume atone attention avoid bake balkanize\n",
      "    bank begin behold believe bend benefit bevel beware bless boil bomb\n",
      "    boost brace break bring broil brush build ...\n",
      "VBD: verb, past tense\n",
      "    dipped pleaded swiped regummed soaked tidied convened halted registered\n",
      "    cushioned exacted snubbed strode aimed adopted belied figgered\n",
      "    speculated wore appreciated contemplated ...\n",
      "VBG: verb, present participle or gerund\n",
      "    telegraphing stirring focusing angering judging stalling lactating\n",
      "    hankerin' alleging veering capping approaching traveling besieging\n",
      "    encrypting interrupting erasing wincing ...\n",
      "VBN: verb, past participle\n",
      "    multihulled dilapidated aerosolized chaired languished panelized used\n",
      "    experimented flourished imitated reunifed factored condensed sheared\n",
      "    unsettled primed dubbed desired ...\n",
      "VBP: verb, present tense, not 3rd person singular\n",
      "    predominate wrap resort sue twist spill cure lengthen brush terminate\n",
      "    appear tend stray glisten obtain comprise detest tease attract\n",
      "    emphasize mold postpone sever return wag ...\n",
      "VBZ: verb, present tense, 3rd person singular\n",
      "    bases reconstructs marks mixes displeases seals carps weaves snatches\n",
      "    slumps stretches authorizes smolders pictures emerges stockpiles\n",
      "    seduces fizzes uses bolsters slaps speaks pleads ...\n",
      "WDT: WH-determiner\n",
      "    that what whatever which whichever\n",
      "WP: WH-pronoun\n",
      "    that what whatever whatsoever which who whom whosoever\n",
      "WP$: WH-pronoun, possessive\n",
      "    whose\n",
      "WRB: Wh-adverb\n",
      "    how however whence whenever where whereby whereever wherein whereof why\n",
      "``: opening quotation mark\n",
      "    ` ``\n"
     ]
    }
   ],
   "source": [
    "nltk.help.upenn_tagset()"
   ]
  },
  {
   "cell_type": "code",
   "execution_count": 15,
   "id": "430c4e8e",
   "metadata": {},
   "outputs": [
    {
     "data": {
      "text/plain": [
       "['adventure',\n",
       " 'belles_lettres',\n",
       " 'editorial',\n",
       " 'fiction',\n",
       " 'government',\n",
       " 'hobbies',\n",
       " 'humor',\n",
       " 'learned',\n",
       " 'lore',\n",
       " 'mystery',\n",
       " 'news',\n",
       " 'religion',\n",
       " 'reviews',\n",
       " 'romance',\n",
       " 'science_fiction']"
      ]
     },
     "execution_count": 15,
     "metadata": {},
     "output_type": "execute_result"
    }
   ],
   "source": [
    "brown.categories()"
   ]
  },
  {
   "cell_type": "code",
   "execution_count": 16,
   "id": "7ea8dfa5",
   "metadata": {},
   "outputs": [],
   "source": [
    "oraciones_news = brown.tagged_sents(categories = 'news')"
   ]
  },
  {
   "cell_type": "code",
   "execution_count": 17,
   "id": "4e6a82e6",
   "metadata": {},
   "outputs": [
    {
     "name": "stdout",
     "output_type": "stream",
     "text": [
      "[('The', 'AT'), ('Fulton', 'NP-TL'), ('County', 'NN-TL'), ('Grand', 'JJ-TL'), ('Jury', 'NN-TL'), ('said', 'VBD'), ('Friday', 'NR'), ('an', 'AT'), ('investigation', 'NN'), ('of', 'IN'), (\"Atlanta's\", 'NP$'), ('recent', 'JJ'), ('primary', 'NN'), ('election', 'NN'), ('produced', 'VBD'), ('``', '``'), ('no', 'AT'), ('evidence', 'NN'), (\"''\", \"''\"), ('that', 'CS'), ('any', 'DTI'), ('irregularities', 'NNS'), ('took', 'VBD'), ('place', 'NN'), ('.', '.')]\n"
     ]
    }
   ],
   "source": [
    "print (oraciones_news[0])"
   ]
  },
  {
   "cell_type": "code",
   "execution_count": 18,
   "id": "4b58a1e4",
   "metadata": {},
   "outputs": [],
   "source": [
    "oraciones_news_universal = brown.tagged_sents(categories = 'news', tagset = 'universal')"
   ]
  },
  {
   "cell_type": "code",
   "execution_count": 19,
   "id": "58ee658f",
   "metadata": {},
   "outputs": [
    {
     "name": "stdout",
     "output_type": "stream",
     "text": [
      "[('The', 'DET'), ('Fulton', 'NOUN'), ('County', 'NOUN'), ('Grand', 'ADJ'), ('Jury', 'NOUN'), ('said', 'VERB'), ('Friday', 'NOUN'), ('an', 'DET'), ('investigation', 'NOUN'), ('of', 'ADP'), (\"Atlanta's\", 'NOUN'), ('recent', 'ADJ'), ('primary', 'NOUN'), ('election', 'NOUN'), ('produced', 'VERB'), ('``', '.'), ('no', 'DET'), ('evidence', 'NOUN'), (\"''\", '.'), ('that', 'ADP'), ('any', 'DET'), ('irregularities', 'NOUN'), ('took', 'VERB'), ('place', 'NOUN'), ('.', '.')]\n"
     ]
    }
   ],
   "source": [
    "print (oraciones_news_universal[0])"
   ]
  },
  {
   "cell_type": "code",
   "execution_count": 46,
   "id": "8709dd4a",
   "metadata": {},
   "outputs": [],
   "source": [
    "#funcion distribucion de etiquetas\n",
    "def explora_tagset_fd(genero, tagset):\n",
    "    from nltk.corpus import brown\n",
    "    \"\"\"Calcula la distribucion de frecuencias de las etiquetas POS dentro de un género del corpus Brown\n",
    "    :parametro genero: Un genero dentro del corpus Brown\n",
    "    :type genero: str o iterable(str) o None\n",
    "    :parametro tagset : el nombre del tagset dentro del corpus Brown\n",
    "    :type tagset: str o None (el default es 'brown')\n",
    "    :return cantidad de tipos de etiquetas, top 10 de etiquetas\n",
    "    :rtype : tuple (int, list(tuple(str, int)) \"\"\"\n",
    "    #palabras etiquetadas del corpus\n",
    "    palabras_etiq = brown.tagged_words(categories = genero, tagset = tagset)\n",
    "    #REALIZA : convertir las palabras etiquetadas a una lista de etiquetas\n",
    "    #REALIZA: utiliza la lista anterior para calcular la distribucion de frecuencias\n",
    "    #usa nltk.freqDist()\n",
    "    etiqFD=nltk.FreqDist(tag for (word, tag) in palabras_etiq)\n",
    "    #REALIZA: cantidad de tipos de etiquetas de conjunto de datos\n",
    "    #help(nltk.FreqDist)\n",
    "    num_etiquetas = etiqFD.N()\n",
    "    #REALIZA: obtén las 10 etiquetas más frecuentes y la frecuencia correspondiente\n",
    "    top_tags = etiqFD.most_common(10)\n",
    "    \n",
    "    return num_etiquetas , top_tags"
   ]
  },
  {
   "cell_type": "code",
   "execution_count": 47,
   "id": "40825a5b",
   "metadata": {},
   "outputs": [
    {
     "data": {
      "text/plain": [
       "(21695,\n",
       " [('NOUN', 4405),\n",
       "  ('VERB', 3546),\n",
       "  ('.', 3419),\n",
       "  ('DET', 2459),\n",
       "  ('ADP', 2392),\n",
       "  ('ADJ', 1362),\n",
       "  ('PRON', 1357),\n",
       "  ('ADV', 1172),\n",
       "  ('CONJ', 713),\n",
       "  ('PRT', 663)])"
      ]
     },
     "execution_count": 47,
     "metadata": {},
     "output_type": "execute_result"
    }
   ],
   "source": [
    "explora_tagset_fd('humor', 'universal')"
   ]
  },
  {
   "cell_type": "code",
   "execution_count": 34,
   "id": "be5c1296",
   "metadata": {},
   "outputs": [
    {
     "data": {
      "text/plain": [
       "(181888,\n",
       " [('NN', 29194),\n",
       "  ('IN', 21757),\n",
       "  ('AT', 16828),\n",
       "  ('JJ', 12294),\n",
       "  ('NNS', 10786),\n",
       "  (',', 8207),\n",
       "  ('.', 7829),\n",
       "  ('VBN', 6044),\n",
       "  ('CC', 5706),\n",
       "  ('RB', 5551)])"
      ]
     },
     "execution_count": 34,
     "metadata": {},
     "output_type": "execute_result"
    }
   ],
   "source": [
    "explora_tagset_fd('learned', None)"
   ]
  },
  {
   "cell_type": "code",
   "execution_count": 35,
   "id": "c56f9935",
   "metadata": {},
   "outputs": [
    {
     "name": "stdout",
     "output_type": "stream",
     "text": [
      "Help on class HiddenMarkovModelTagger in module nltk.tag.hmm:\n",
      "\n",
      "class HiddenMarkovModelTagger(nltk.tag.api.TaggerI)\n",
      " |  HiddenMarkovModelTagger(symbols, states, transitions, outputs, priors, transform=<function _identity at 0x000001F074CB0E50>)\n",
      " |  \n",
      " |  Hidden Markov model class, a generative model for labelling sequence data.\n",
      " |  These models define the joint probability of a sequence of symbols and\n",
      " |  their labels (state transitions) as the product of the starting state\n",
      " |  probability, the probability of each state transition, and the probability\n",
      " |  of each observation being generated from each state. This is described in\n",
      " |  more detail in the module documentation.\n",
      " |  \n",
      " |  This implementation is based on the HMM description in Chapter 8, Huang,\n",
      " |  Acero and Hon, Spoken Language Processing and includes an extension for\n",
      " |  training shallow HMM parsers or specialized HMMs as in Molina et.\n",
      " |  al, 2002.  A specialized HMM modifies training data by applying a\n",
      " |  specialization function to create a new training set that is more\n",
      " |  appropriate for sequential tagging with an HMM.  A typical use case is\n",
      " |  chunking.\n",
      " |  \n",
      " |  :param symbols: the set of output symbols (alphabet)\n",
      " |  :type symbols: seq of any\n",
      " |  :param states: a set of states representing state space\n",
      " |  :type states: seq of any\n",
      " |  :param transitions: transition probabilities; Pr(s_i | s_j) is the\n",
      " |      probability of transition from state i given the model is in\n",
      " |      state_j\n",
      " |  :type transitions: ConditionalProbDistI\n",
      " |  :param outputs: output probabilities; Pr(o_k | s_i) is the probability\n",
      " |      of emitting symbol k when entering state i\n",
      " |  :type outputs: ConditionalProbDistI\n",
      " |  :param priors: initial state distribution; Pr(s_i) is the probability\n",
      " |      of starting in state i\n",
      " |  :type priors: ProbDistI\n",
      " |  :param transform: an optional function for transforming training\n",
      " |      instances, defaults to the identity function.\n",
      " |  :type transform: callable\n",
      " |  \n",
      " |  Method resolution order:\n",
      " |      HiddenMarkovModelTagger\n",
      " |      nltk.tag.api.TaggerI\n",
      " |      builtins.object\n",
      " |  \n",
      " |  Methods defined here:\n",
      " |  \n",
      " |  __init__(self, symbols, states, transitions, outputs, priors, transform=<function _identity at 0x000001F074CB0E50>)\n",
      " |      Initialize self.  See help(type(self)) for accurate signature.\n",
      " |  \n",
      " |  __repr__(self)\n",
      " |      Return repr(self).\n",
      " |  \n",
      " |  best_path(self, unlabeled_sequence)\n",
      " |      Returns the state sequence of the optimal (most probable) path through\n",
      " |      the HMM. Uses the Viterbi algorithm to calculate this part by dynamic\n",
      " |      programming.\n",
      " |      \n",
      " |      :return: the state sequence\n",
      " |      :rtype: sequence of any\n",
      " |      :param unlabeled_sequence: the sequence of unlabeled symbols\n",
      " |      :type unlabeled_sequence: list\n",
      " |  \n",
      " |  best_path_simple(self, unlabeled_sequence)\n",
      " |      Returns the state sequence of the optimal (most probable) path through\n",
      " |      the HMM. Uses the Viterbi algorithm to calculate this part by dynamic\n",
      " |      programming.  This uses a simple, direct method, and is included for\n",
      " |      teaching purposes.\n",
      " |      \n",
      " |      :return: the state sequence\n",
      " |      :rtype: sequence of any\n",
      " |      :param unlabeled_sequence: the sequence of unlabeled symbols\n",
      " |      :type unlabeled_sequence: list\n",
      " |  \n",
      " |  entropy(self, unlabeled_sequence)\n",
      " |      Returns the entropy over labellings of the given sequence. This is\n",
      " |      given by::\n",
      " |      \n",
      " |          H(O) = - sum_S Pr(S | O) log Pr(S | O)\n",
      " |      \n",
      " |      where the summation ranges over all state sequences, S. Let\n",
      " |      *Z = Pr(O) = sum_S Pr(S, O)}* where the summation ranges over all state\n",
      " |      sequences and O is the observation sequence. As such the entropy can\n",
      " |      be re-expressed as::\n",
      " |      \n",
      " |          H = - sum_S Pr(S | O) log [ Pr(S, O) / Z ]\n",
      " |          = log Z - sum_S Pr(S | O) log Pr(S, 0)\n",
      " |          = log Z - sum_S Pr(S | O) [ log Pr(S_0) + sum_t Pr(S_t | S_{t-1}) + sum_t Pr(O_t | S_t) ]\n",
      " |      \n",
      " |      The order of summation for the log terms can be flipped, allowing\n",
      " |      dynamic programming to be used to calculate the entropy. Specifically,\n",
      " |      we use the forward and backward probabilities (alpha, beta) giving::\n",
      " |      \n",
      " |          H = log Z - sum_s0 alpha_0(s0) beta_0(s0) / Z * log Pr(s0)\n",
      " |          + sum_t,si,sj alpha_t(si) Pr(sj | si) Pr(O_t+1 | sj) beta_t(sj) / Z * log Pr(sj | si)\n",
      " |          + sum_t,st alpha_t(st) beta_t(st) / Z * log Pr(O_t | st)\n",
      " |      \n",
      " |      This simply uses alpha and beta to find the probabilities of partial\n",
      " |      sequences, constrained to include the given state(s) at some point in\n",
      " |      time.\n",
      " |  \n",
      " |  log_probability(self, sequence)\n",
      " |      Returns the log-probability of the given symbol sequence. If the\n",
      " |      sequence is labelled, then returns the joint log-probability of the\n",
      " |      symbol, state sequence. Otherwise, uses the forward algorithm to find\n",
      " |      the log-probability over all label sequences.\n",
      " |      \n",
      " |      :return: the log-probability of the sequence\n",
      " |      :rtype: float\n",
      " |      :param sequence: the sequence of symbols which must contain the TEXT\n",
      " |          property, and optionally the TAG property\n",
      " |      :type sequence:  Token\n",
      " |  \n",
      " |  point_entropy(self, unlabeled_sequence)\n",
      " |      Returns the pointwise entropy over the possible states at each\n",
      " |      position in the chain, given the observation sequence.\n",
      " |  \n",
      " |  probability(self, sequence)\n",
      " |      Returns the probability of the given symbol sequence. If the sequence\n",
      " |      is labelled, then returns the joint probability of the symbol, state\n",
      " |      sequence. Otherwise, uses the forward algorithm to find the\n",
      " |      probability over all label sequences.\n",
      " |      \n",
      " |      :return: the probability of the sequence\n",
      " |      :rtype: float\n",
      " |      :param sequence: the sequence of symbols which must contain the TEXT\n",
      " |          property, and optionally the TAG property\n",
      " |      :type sequence:  Token\n",
      " |  \n",
      " |  random_sample(self, rng, length)\n",
      " |      Randomly sample the HMM to generate a sentence of a given length. This\n",
      " |      samples the prior distribution then the observation distribution and\n",
      " |      transition distribution for each subsequent observation and state.\n",
      " |      This will mostly generate unintelligible garbage, but can provide some\n",
      " |      amusement.\n",
      " |      \n",
      " |      :return:        the randomly created state/observation sequence,\n",
      " |                      generated according to the HMM's probability\n",
      " |                      distributions. The SUBTOKENS have TEXT and TAG\n",
      " |                      properties containing the observation and state\n",
      " |                      respectively.\n",
      " |      :rtype:         list\n",
      " |      :param rng:     random number generator\n",
      " |      :type rng:      Random (or any object with a random() method)\n",
      " |      :param length:  desired output length\n",
      " |      :type length:   int\n",
      " |  \n",
      " |  reset_cache(self)\n",
      " |  \n",
      " |  tag(self, unlabeled_sequence)\n",
      " |      Tags the sequence with the highest probability state sequence. This\n",
      " |      uses the best_path method to find the Viterbi path.\n",
      " |      \n",
      " |      :return: a labelled sequence of symbols\n",
      " |      :rtype: list\n",
      " |      :param unlabeled_sequence: the sequence of unlabeled symbols\n",
      " |      :type unlabeled_sequence: list\n",
      " |  \n",
      " |  test(self, test_sequence, verbose=False, **kwargs)\n",
      " |      Tests the HiddenMarkovModelTagger instance.\n",
      " |      \n",
      " |      :param test_sequence: a sequence of labeled test instances\n",
      " |      :type test_sequence: list(list)\n",
      " |      :param verbose: boolean flag indicating whether training should be\n",
      " |          verbose or include printed output\n",
      " |      :type verbose: bool\n",
      " |  \n",
      " |  ----------------------------------------------------------------------\n",
      " |  Class methods defined here:\n",
      " |  \n",
      " |  train(labeled_sequence, test_sequence=None, unlabeled_sequence=None, **kwargs) from abc.ABCMeta\n",
      " |      Train a new HiddenMarkovModelTagger using the given labeled and\n",
      " |      unlabeled training instances. Testing will be performed if test\n",
      " |      instances are provided.\n",
      " |      \n",
      " |      :return: a hidden markov model tagger\n",
      " |      :rtype: HiddenMarkovModelTagger\n",
      " |      :param labeled_sequence: a sequence of labeled training instances,\n",
      " |          i.e. a list of sentences represented as tuples\n",
      " |      :type labeled_sequence: list(list)\n",
      " |      :param test_sequence: a sequence of labeled test instances\n",
      " |      :type test_sequence: list(list)\n",
      " |      :param unlabeled_sequence: a sequence of unlabeled training instances,\n",
      " |          i.e. a list of sentences represented as words\n",
      " |      :type unlabeled_sequence: list(list)\n",
      " |      :param transform: an optional function for transforming training\n",
      " |          instances, defaults to the identity function, see ``transform()``\n",
      " |      :type transform: function\n",
      " |      :param estimator: an optional function or class that maps a\n",
      " |          condition's frequency distribution to its probability\n",
      " |          distribution, defaults to a Lidstone distribution with gamma = 0.1\n",
      " |      :type estimator: class or function\n",
      " |      :param verbose: boolean flag indicating whether training should be\n",
      " |          verbose or include printed output\n",
      " |      :type verbose: bool\n",
      " |      :param max_iterations: number of Baum-Welch interations to perform\n",
      " |      :type max_iterations: int\n",
      " |  \n",
      " |  ----------------------------------------------------------------------\n",
      " |  Data and other attributes defined here:\n",
      " |  \n",
      " |  __abstractmethods__ = frozenset()\n",
      " |  \n",
      " |  ----------------------------------------------------------------------\n",
      " |  Methods inherited from nltk.tag.api.TaggerI:\n",
      " |  \n",
      " |  evaluate(self, gold)\n",
      " |      Score the accuracy of the tagger against the gold standard.\n",
      " |      Strip the tags from the gold standard text, retag it using\n",
      " |      the tagger, then compute the accuracy score.\n",
      " |      \n",
      " |      :type gold: list(list(tuple(str, str)))\n",
      " |      :param gold: The list of tagged sentences to score the tagger on.\n",
      " |      :rtype: float\n",
      " |  \n",
      " |  tag_sents(self, sentences)\n",
      " |      Apply ``self.tag()`` to each element of *sentences*.  I.e.:\n",
      " |      \n",
      " |          return [self.tag(sent) for sent in sentences]\n",
      " |  \n",
      " |  ----------------------------------------------------------------------\n",
      " |  Data descriptors inherited from nltk.tag.api.TaggerI:\n",
      " |  \n",
      " |  __dict__\n",
      " |      dictionary for instance variables (if defined)\n",
      " |  \n",
      " |  __weakref__\n",
      " |      list of weak references to the object (if defined)\n",
      "\n"
     ]
    }
   ],
   "source": [
    "help(nltk.tag.hmm.HiddenMarkovModelTagger) "
   ]
  },
  {
   "cell_type": "code",
   "execution_count": 68,
   "id": "7f521734",
   "metadata": {},
   "outputs": [],
   "source": [
    "#funcion entrenamiento y evaluacion de un etiquetador HMM\n",
    "\n",
    "def entrenamientoHMM (oracion, tamanio):\n",
    "    \"\"\"Crea un etiquetador HMM de la categoria news del corpus Brown y se evalua con una oracion de prueba\n",
    "    :parametro oracion: Una oracion sin etiquetar\n",
    "    :type oracion : list(str)\n",
    "    :parametro tamanio: Numero de oraciones para entrenar\n",
    "    :type size: int\n",
    "    :return: El objeto etiquetador, la oracion de pruebas con etiquetas y la entropia con respecto a 100 oraciones de prueba\n",
    "    :rtype : tuple(nltk.tag.hmm.HiddenMarkovModelTagger, list(tuple(str,str)), float)\"\"\"\n",
    "    from nltk.corpus import brown\n",
    "    from nltk.tag import hmm\n",
    "    from nltk.tag.hmm import HiddenMarkovModelTagger\n",
    "    \n",
    "    oraciones_etiq = brown.tagged_sents(categories='news')\n",
    "    \n",
    "    #Datos de entrenamiento\n",
    "    datos_train = oraciones_etiq[-tamanio:]\n",
    "    \n",
    "    #Datos de prueba\n",
    "    datos_test = oraciones_etiq[:tamanio]\n",
    "    \n",
    "    #Usa la ayuda de la clase HiddenMarkovModelTagger para conocer como entrenar, etiquetar y evaluar el etiquetador HMM\n",
    "    #REALIZA: entrena el modelo HiddenMarkovModelTagger con elmétodo train()\n",
    "    \n",
    "    trainer = hmm.HiddenMarkovModelTrainer()\n",
    "    \n",
    "    tagger = trainer.train(datos_train)\n",
    "    \n",
    "    #REALIZA: utiliza el etiquetador para el etiquetar la oración\n",
    "    oracion_etiquetada_hmm = tagger.tag('Benjamin Franklin was a president of United States'.split())\n",
    "    \n",
    "    #REALIZA: utilizando el etiquetador, evalua la precision (accuracy) con los datos de prueba\n",
    "    acc = tagger.evaluate(datos_test)\n",
    "    #acc_trainer = tagger.evaluate(datos_train)\n",
    "    return tagger, oracion_etiquetada_hmm, acc\n",
    "   "
   ]
  },
  {
   "cell_type": "code",
   "execution_count": 69,
   "id": "bd5a2c32",
   "metadata": {},
   "outputs": [
    {
     "data": {
      "text/plain": [
       "(<HiddenMarkovModelTagger 198 states and 14394 output symbols>,\n",
       " [('Benjamin', 'NP'),\n",
       "  ('Franklin', 'NP'),\n",
       "  ('was', 'BEDZ'),\n",
       "  ('a', 'AT'),\n",
       "  ('president', 'NN'),\n",
       "  ('of', 'IN'),\n",
       "  ('United', 'VBN-TL'),\n",
       "  ('States', 'NNS-TL')],\n",
       " 0.47943933908846187)"
      ]
     },
     "execution_count": 69,
     "metadata": {},
     "output_type": "execute_result"
    }
   ],
   "source": [
    "entrenamientoHMM ('Bill Clinton was a president of United States', 3000)"
   ]
  },
  {
   "cell_type": "code",
   "execution_count": 70,
   "id": "335feaad",
   "metadata": {},
   "outputs": [],
   "source": [
    "def evaluarHMM(indice):\n",
    "    oraciones_etiq = brown.tagged_sents(categories = 'news')\n",
    "    oracion = [tp[0] for tp in oraciones_etiq[indice]]\n",
    "    \n",
    "    tagger, oracion_etiquetada_hmm, acc = entrenamientoHMM(oracion,500)\n",
    "    print('Entrenando el modelo nltk.HiddenMarkovModelTagger con 500 oraciones...')\n",
    "    print('\\tOracion etiquetada con el modelo:')\n",
    "    pp.pprint(oracion_etiquetada_hmm)\n",
    "    print('\\tAccuracy del conjunto de pruebas: %.4f%%' % (100.0*acc))\n",
    "    print()\n",
    "    \n",
    "    tagger , oracion_etiquetada_hmm, acc = entrenamientoHMM(oracion, 3000)\n",
    "    print('Entrenando el modelo nltk.HiddenMarkovModelTagger con 3000 oraciones...')\n",
    "    print('\\tOracion etiquetada con el modelo:')\n",
    "    pp.pprint(oracion_etiquetada_hmm)\n",
    "    print('\\tAccuracy del conjunto de pruebas: %.4f%%' % (100.0*acc))\n",
    "    "
   ]
  },
  {
   "cell_type": "code",
   "execution_count": 74,
   "id": "cec04ff8",
   "metadata": {},
   "outputs": [
    {
     "name": "stdout",
     "output_type": "stream",
     "text": [
      "Entrenando el modelo nltk.HiddenMarkovModelTagger con 500 oraciones...\n",
      "\tOracion etiquetada con el modelo:\n",
      "[   ('Benjamin', 'VBG'),\n",
      "    ('Franklin', 'VBG'),\n",
      "    ('was', 'VBG'),\n",
      "    ('a', 'VBG'),\n",
      "    ('president', 'VBG'),\n",
      "    ('of', 'VBG'),\n",
      "    ('United', 'VBG'),\n",
      "    ('States', 'VBG')]\n",
      "\tAccuracy del conjunto de pruebas: 8.0181%\n",
      "\n",
      "Entrenando el modelo nltk.HiddenMarkovModelTagger con 3000 oraciones...\n",
      "\tOracion etiquetada con el modelo:\n",
      "[   ('Benjamin', 'NP'),\n",
      "    ('Franklin', 'NP'),\n",
      "    ('was', 'BEDZ'),\n",
      "    ('a', 'AT'),\n",
      "    ('president', 'NN'),\n",
      "    ('of', 'IN'),\n",
      "    ('United', 'VBN-TL'),\n",
      "    ('States', 'NNS-TL')]\n",
      "\tAccuracy del conjunto de pruebas: 47.9439%\n"
     ]
    }
   ],
   "source": [
    "evaluarHMM(76)"
   ]
  },
  {
   "cell_type": "code",
   "execution_count": 75,
   "id": "fa0e69b1",
   "metadata": {},
   "outputs": [
    {
     "name": "stdout",
     "output_type": "stream",
     "text": [
      "Entrenando el modelo nltk.HiddenMarkovModelTagger con 500 oraciones...\n",
      "\tOracion etiquetada con el modelo:\n",
      "[   ('Benjamin', 'VBG'),\n",
      "    ('Franklin', 'VBG'),\n",
      "    ('was', 'VBG'),\n",
      "    ('a', 'VBG'),\n",
      "    ('president', 'VBG'),\n",
      "    ('of', 'VBG'),\n",
      "    ('United', 'VBG'),\n",
      "    ('States', 'VBG')]\n",
      "\tAccuracy del conjunto de pruebas: 8.0181%\n",
      "\n",
      "Entrenando el modelo nltk.HiddenMarkovModelTagger con 3000 oraciones...\n",
      "\tOracion etiquetada con el modelo:\n",
      "[   ('Benjamin', 'NP'),\n",
      "    ('Franklin', 'NP'),\n",
      "    ('was', 'BEDZ'),\n",
      "    ('a', 'AT'),\n",
      "    ('president', 'NN'),\n",
      "    ('of', 'IN'),\n",
      "    ('United', 'VBN-TL'),\n",
      "    ('States', 'NNS-TL')]\n",
      "\tAccuracy del conjunto de pruebas: 47.9439%\n"
     ]
    }
   ],
   "source": [
    "evaluarHMM(70)"
   ]
  },
  {
   "cell_type": "code",
   "execution_count": null,
   "id": "bd9fe1d2",
   "metadata": {},
   "outputs": [],
   "source": []
  }
 ],
 "metadata": {
  "kernelspec": {
   "display_name": "Python 3 (ipykernel)",
   "language": "python",
   "name": "python3"
  },
  "language_info": {
   "codemirror_mode": {
    "name": "ipython",
    "version": 3
   },
   "file_extension": ".py",
   "mimetype": "text/x-python",
   "name": "python",
   "nbconvert_exporter": "python",
   "pygments_lexer": "ipython3",
   "version": "3.8.8"
  }
 },
 "nbformat": 4,
 "nbformat_minor": 5
}
