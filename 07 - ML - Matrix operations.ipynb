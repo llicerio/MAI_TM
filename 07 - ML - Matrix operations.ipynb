{
 "cells": [
  {
   "cell_type": "markdown",
   "id": "e58dace6",
   "metadata": {},
   "source": [
    "## Machine Learning\n"
   ]
  },
  {
   "cell_type": "markdown",
   "id": "39379420",
   "metadata": {},
   "source": [
    "### Laura Licerio"
   ]
  },
  {
   "cell_type": "code",
   "execution_count": 3,
   "id": "ba7ad481",
   "metadata": {},
   "outputs": [
    {
     "name": "stdout",
     "output_type": "stream",
     "text": [
      "[[ 2  4  6  8]\n",
      " [ 1  3  5  7]\n",
      " [10 12 14 16]\n",
      " [ 9 11 13 15]]\n"
     ]
    }
   ],
   "source": [
    "#Genera una matriz cuadrada de 4x4\n",
    "import numpy as np\n",
    "matriz=np.array([[2,4,6,8],[1,3,5,7],[10,12,14,16],[9,11,13,15]])\n",
    "print (matriz)"
   ]
  },
  {
   "cell_type": "code",
   "execution_count": 5,
   "id": "4a56f279",
   "metadata": {},
   "outputs": [
    {
     "name": "stdout",
     "output_type": "stream",
     "text": [
      "[[ 7.29456278e+14 -1.26861961e+15 -5.04276296e+15  5.58192630e+15]\n",
      " [ 8.88033729e+15 -7.61171768e+15  1.26861961e+15 -2.53723923e+15]\n",
      " [-1.99490434e+16  1.90292942e+16  1.25910497e+16 -1.16713004e+16]\n",
      " [ 1.03392498e+16 -1.01489569e+16 -8.81690631e+15  8.62661337e+15]]\n",
      "[[ 2  1 10  9]\n",
      " [ 4  3 12 11]\n",
      " [ 6  5 14 13]\n",
      " [ 8  7 16 15]]\n"
     ]
    }
   ],
   "source": [
    "#Calcula su inversa y su traspuesta.\n",
    "matriz_inversa = np.linalg.inv(matriz)\n",
    "print (matriz_inversa)\n",
    "matriz_traspuesta = matriz.T\n",
    "print (matriz_traspuesta)"
   ]
  },
  {
   "cell_type": "code",
   "execution_count": 6,
   "id": "e9a895fb",
   "metadata": {},
   "outputs": [
    {
     "name": "stdout",
     "output_type": "stream",
     "text": [
      "[[ 14  28  42  56]\n",
      " [  7  21  35  49]\n",
      " [ 70  84  98 112]\n",
      " [ 63  77  91 105]]\n"
     ]
    }
   ],
   "source": [
    "#Multiplica la matriz por un escalar\n",
    "escalar=7\n",
    "multiplicacion_escalar = matriz * escalar\n",
    "print (multiplicacion_escalar)"
   ]
  },
  {
   "cell_type": "code",
   "execution_count": 9,
   "id": "3f9ee42e",
   "metadata": {},
   "outputs": [
    {
     "name": "stdout",
     "output_type": "stream",
     "text": [
      "[[110  82]\n",
      " [ 87  69]\n",
      " [294 186]\n",
      " [271 173]]\n"
     ]
    }
   ],
   "source": [
    "# Realiza el producto interno con una nueva matriz de dimensiones 4x2.\n",
    "matriz_2 = np.array([[5,1],[8,3],[6,2],[4,7]])\n",
    "producto = np.dot(matriz, matriz_2)\n",
    "print (producto)"
   ]
  },
  {
   "cell_type": "code",
   "execution_count": null,
   "id": "36df344f",
   "metadata": {},
   "outputs": [],
   "source": []
  }
 ],
 "metadata": {
  "kernelspec": {
   "display_name": "Python 3 (ipykernel)",
   "language": "python",
   "name": "python3"
  },
  "language_info": {
   "codemirror_mode": {
    "name": "ipython",
    "version": 3
   },
   "file_extension": ".py",
   "mimetype": "text/x-python",
   "name": "python",
   "nbconvert_exporter": "python",
   "pygments_lexer": "ipython3",
   "version": "3.8.8"
  }
 },
 "nbformat": 4,
 "nbformat_minor": 5
}
