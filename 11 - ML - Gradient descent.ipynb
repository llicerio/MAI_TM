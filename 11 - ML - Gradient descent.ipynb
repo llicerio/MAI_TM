{
 "cells": [
  {
   "cell_type": "markdown",
   "id": "a9b811e9",
   "metadata": {},
   "source": [
    "## Machine Learning"
   ]
  },
  {
   "cell_type": "markdown",
   "id": "0b1a58c6",
   "metadata": {},
   "source": [
    "### Laura Licerio"
   ]
  },
  {
   "cell_type": "markdown",
   "id": "f422792d",
   "metadata": {},
   "source": [
    "Considera la función: f(x,y) = 3x2 + 2xy + 15x + 6y2 - y, comenzando desde el punto inicial (x, y) = (-2, 3), encuentra el mínimo valor estimado para el cual esta función converge."
   ]
  },
  {
   "cell_type": "code",
   "execution_count": 1,
   "id": "7254176e",
   "metadata": {},
   "outputs": [
    {
     "data": {
      "text/latex": [
       "$\\displaystyle 3 x^{2} + 2 x y + 15 x + 6 y^{2} - y$"
      ],
      "text/plain": [
       "3*x**2 + 2*x*y + 15*x + 6*y**2 - y"
      ]
     },
     "execution_count": 1,
     "metadata": {},
     "output_type": "execute_result"
    }
   ],
   "source": [
    "import numpy as np\n",
    "import numpy.linalg as npl\n",
    "import sympy\n",
    "from sympy import *\n",
    "import matplotlib.pyplot as plt\n",
    "from matplotlib.gridspec import GridSpec\n",
    "\n",
    "x, y = symbols(\"x y\")\n",
    "\n",
    "punto_inicio = np.vstack([-2,-3])\n",
    "funcion = 3*x**2 + 2*x*y + 15*x + 6*y**2 - y\n",
    "funcion"
   ]
  },
  {
   "cell_type": "code",
   "execution_count": 2,
   "id": "2e05fae8",
   "metadata": {},
   "outputs": [],
   "source": [
    "f = lambdify('x,y',funcion)"
   ]
  },
  {
   "cell_type": "code",
   "execution_count": 3,
   "id": "2e3d5f64",
   "metadata": {},
   "outputs": [],
   "source": [
    "#encontrar gradiente\n",
    "\n",
    "f1x = funcion.diff(x)\n",
    "f1xLam = lambdify('x,y',f1x)\n",
    "\n",
    "f1y = funcion.diff(y)\n",
    "f1yLam = lambdify('x,y',f1y)\n",
    "\n",
    "f1 = [f1x,f1y]\n",
    "gradiente = lambdify('x,y',f1)\n"
   ]
  },
  {
   "cell_type": "code",
   "execution_count": 4,
   "id": "c3f70561",
   "metadata": {},
   "outputs": [
    {
     "name": "stdout",
     "output_type": "stream",
     "text": [
      "9\n",
      "[[-2.67007459]\n",
      " [ 0.52747521]]\n"
     ]
    },
    {
     "data": {
      "text/plain": [
       "array([[-2.        , -3.        ],\n",
       "       [-1.745     ,  0.485     ],\n",
       "       [-2.2125    ,  0.37195   ],\n",
       "       [-2.4223565 ,  0.453686  ],\n",
       "       [-2.53908131,  0.48772689]])"
      ]
     },
     "execution_count": 4,
     "metadata": {},
     "output_type": "execute_result"
    }
   ],
   "source": [
    "#implementacion de algoritmo de gradiente descendiente\n",
    "\n",
    "def gradientDescent(gradiente, punto_inicio, tamaño_paso = .085, precision = .01, max_iter = 3000, initError = 10):\n",
    "    # configuracion inicial\n",
    "    x,y = punto_inicio.astype(float)\n",
    "    currIter, iterCoords = 0, [np.hstack([x,y])]\n",
    "    error = initError\n",
    "    currX = np.array([x,y])\n",
    "\n",
    "    # inicio de las iteraciones\n",
    "    \n",
    "    while npl.norm(error) > precision and currIter < max_iter:\n",
    "        currIter+=1 # se incrementa el contador\n",
    "        prevX = currX.copy() # registra el ultimo valor de error\n",
    "        \n",
    "        # Ecuación del gradiente descendente\n",
    "        currX -= tamaño_paso * np.array(gradiente(x,y)) # Nuevo X = (anterior) menos (tam_paso *  gradiente(anterior)).\n",
    "        x,y = currX[0].copy(), currX[1].copy() # Update X.\n",
    "        \n",
    "        error = currX - prevX # error en base a cuanto nos movemos con el tamaño del paso y el gradiente\n",
    "        iterCoords.append(np.hstack([x,y])) # registra X para graficarlo\n",
    "        \n",
    "    return currIter, currX, np.vstack(iterCoords)\n",
    "\n",
    "pasos_totales, coordenada_final, coordenadas_intermedias = gradientDescent(gradiente,punto_inicio)\n",
    "\n",
    "print(pasos_totales)\n",
    "print(coordenada_final)\n",
    "coordenadas_intermedias[:5]\n"
   ]
  },
  {
   "cell_type": "markdown",
   "id": "c34ec454",
   "metadata": {},
   "source": [
    "La coordenada mínima de f(x,y) es [[-2.67007459] [ 0.52747521]] , se necesitaron 9 pasos para alcanzarla"
   ]
  },
  {
   "cell_type": "markdown",
   "id": "3c375bba",
   "metadata": {},
   "source": [
    "Se quiere vender cierto número N de artículos con el fin de maximizar la ganancia. La investigación de mercado dice que si se fija el precio en 1.50 , se podrá vender 5,000 artículos, y por cada 10 centavos que se reduzca el precio por debajo de 1.50 se podrá vender otros 1,000 artículos. \n",
    "Bajo el supuesto de que los costos fijos (\"costos iniciales\") totalizan 2,000, y el costo de producción por artículo (\"costo marginal\") es 0.50, encontrar el precio a establecer por artículo y la cantidad de artículos vendidos para maximizar las ganancias, y también determinar la ganancia máxima que puede obtener.\n"
   ]
  },
  {
   "cell_type": "code",
   "execution_count": 196,
   "id": "3fd266d6",
   "metadata": {},
   "outputs": [
    {
     "name": "stdout",
     "output_type": "stream",
     "text": [
      "-10000.0*p**2 + 25000.0*p - 12000.0\n"
     ]
    }
   ],
   "source": [
    "#por diferenciador de lagrange\n",
    "p = symbols('p')\n",
    "\n",
    "to_simpl = ( 5000 + 1000*(1.5 - p ) / 0.1 )* p - 2000 - 0.5* (5000 + 1000*(1.5 - p ) / 0.1 ) \n",
    "\n",
    "\n",
    "ganancia = (simplify(to_simpl))\n",
    "\n",
    "print (ganancia)\n"
   ]
  },
  {
   "cell_type": "code",
   "execution_count": 197,
   "id": "9d85b5da",
   "metadata": {},
   "outputs": [],
   "source": [
    "f_ganancia = lambdify('p', ganancia)\n",
    "\n",
    "from sympy import *\n",
    "l = symbols('l')\n",
    "d_ganancia = ganancia.diff()\n",
    "\n",
    "\n",
    "DL = np.array([\n",
    "            d_ganancia \n",
    "        ])"
   ]
  },
  {
   "cell_type": "code",
   "execution_count": 198,
   "id": "d30185b2",
   "metadata": {},
   "outputs": [
    {
     "data": {
      "text/plain": [
       "{p: 1.25000000000000}"
      ]
     },
     "execution_count": 198,
     "metadata": {},
     "output_type": "execute_result"
    }
   ],
   "source": [
    "solve([Eq(DL[0],0)],\n",
    "       [p,l], simplify=False)\n",
    "\n"
   ]
  },
  {
   "cell_type": "code",
   "execution_count": 199,
   "id": "aab9b680",
   "metadata": {},
   "outputs": [
    {
     "data": {
      "text/latex": [
       "$\\displaystyle 3625.0$"
      ],
      "text/plain": [
       "3625.00000000000"
      ]
     },
     "execution_count": 199,
     "metadata": {},
     "output_type": "execute_result"
    }
   ],
   "source": [
    "ganancia.subs(p, 1.25)"
   ]
  },
  {
   "cell_type": "code",
   "execution_count": 200,
   "id": "82fc7420",
   "metadata": {},
   "outputs": [],
   "source": [
    "n = 5000 + 1000*(1.5 - p ) / 0.1"
   ]
  },
  {
   "cell_type": "code",
   "execution_count": 201,
   "id": "92dc1bee",
   "metadata": {},
   "outputs": [
    {
     "data": {
      "text/latex": [
       "$\\displaystyle 7500.0$"
      ],
      "text/plain": [
       "7500.00000000000"
      ]
     },
     "execution_count": 201,
     "metadata": {},
     "output_type": "execute_result"
    }
   ],
   "source": [
    "n.subs(p,1.25)"
   ]
  },
  {
   "cell_type": "markdown",
   "id": "ed433d0b",
   "metadata": {},
   "source": [
    "La ganancia máxima es de 3625 estableciendo el precio a 1.25 y vendiendo 7500 articulos "
   ]
  },
  {
   "cell_type": "code",
   "execution_count": null,
   "id": "840cacc6",
   "metadata": {},
   "outputs": [],
   "source": []
  }
 ],
 "metadata": {
  "kernelspec": {
   "display_name": "Python 3 (ipykernel)",
   "language": "python",
   "name": "python3"
  },
  "language_info": {
   "codemirror_mode": {
    "name": "ipython",
    "version": 3
   },
   "file_extension": ".py",
   "mimetype": "text/x-python",
   "name": "python",
   "nbconvert_exporter": "python",
   "pygments_lexer": "ipython3",
   "version": "3.8.8"
  }
 },
 "nbformat": 4,
 "nbformat_minor": 5
}
