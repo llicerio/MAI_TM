{
 "cells": [
  {
   "cell_type": "markdown",
   "id": "921a715c",
   "metadata": {},
   "source": [
    "## Machine Learning"
   ]
  },
  {
   "cell_type": "markdown",
   "id": "e4524b0d",
   "metadata": {},
   "source": [
    "### Laura Licerio"
   ]
  },
  {
   "cell_type": "code",
   "execution_count": 1,
   "id": "23ac2973",
   "metadata": {},
   "outputs": [],
   "source": [
    "# Resuleve las siguientes ecuaciones lineales por varios metodos\n"
   ]
  },
  {
   "attachments": {
    "sistema01.png": {
     "image/png": "[encoded data removed]"
    }
   },
   "cell_type": "markdown",
   "id": "f0e8b3da",
   "metadata": {},
   "source": [
    "![sistema01.png](attachment:sistema01.png)"
   ]
  },
  {
   "cell_type": "code",
   "execution_count": 2,
   "id": "1a33095c",
   "metadata": {},
   "outputs": [
    {
     "name": "stdout",
     "output_type": "stream",
     "text": [
      "[[ 1  2  5 -4]\n",
      " [ 5  8  1  1]\n",
      " [ 5  7 -3  2]\n",
      " [-1  3  9 -1]]\n"
     ]
    }
   ],
   "source": [
    "import numpy as np\n",
    "C1 = np.array([[1,2,5,-4],[5,8,1,1],[5,7,-3,2],[-1,3,9,-1]])\n",
    "print (C1)"
   ]
  },
  {
   "cell_type": "code",
   "execution_count": 3,
   "id": "a511a133",
   "metadata": {},
   "outputs": [
    {
     "name": "stdout",
     "output_type": "stream",
     "text": [
      "[[21]\n",
      " [-8]\n",
      " [14]\n",
      " [ 5]]\n"
     ]
    }
   ],
   "source": [
    "I1 = np.array([[21],[-8],[14],[5]])\n",
    "print (I1)"
   ]
  },
  {
   "cell_type": "code",
   "execution_count": 4,
   "id": "7d1befc7",
   "metadata": {},
   "outputs": [
    {
     "name": "stdout",
     "output_type": "stream",
     "text": [
      "[[-57.70175439]\n",
      " [ 41.31578947]\n",
      " [-22.66666667]\n",
      " [-27.35087719]]\n"
     ]
    }
   ],
   "source": [
    "#Solucion por función solve\n",
    "Solucion01a = np.linalg.solve(C1,I1)\n",
    "print (Solucion01a)"
   ]
  },
  {
   "cell_type": "code",
   "execution_count": 6,
   "id": "020c6a3b",
   "metadata": {},
   "outputs": [
    {
     "name": "stdout",
     "output_type": "stream",
     "text": [
      "[[-0.30701754  2.21929825 -2.11403509 -0.78070175]\n",
      " [ 0.26315789 -1.47368421  1.52631579  0.52631579]\n",
      " [-0.16666667  0.83333333 -0.83333333 -0.16666667]\n",
      " [-0.40350877  0.85964912 -0.80701754 -0.14035088]]\n"
     ]
    }
   ],
   "source": [
    "#Solucion por matriz inversa y producto punto\n",
    "C1_Inv = np.linalg.inv(C1)\n",
    "print (C1_Inv)"
   ]
  },
  {
   "cell_type": "code",
   "execution_count": 11,
   "id": "77ea37a5",
   "metadata": {},
   "outputs": [
    {
     "name": "stdout",
     "output_type": "stream",
     "text": [
      "[[-57.70175439]\n",
      " [ 41.31578947]\n",
      " [-22.66666667]\n",
      " [-27.35087719]]\n"
     ]
    }
   ],
   "source": [
    "Solucion01b = C1_Inv.dot(I1)\n",
    "print (Solucion01b)"
   ]
  },
  {
   "cell_type": "markdown",
   "id": "3b7c52b8",
   "metadata": {},
   "source": [
    "La solución al sistema de ecuaciones lineal 1 es x= -57.70175439 , y = 41.31578947 , z = -22.66666667, w = -27.35087719"
   ]
  },
  {
   "attachments": {
    "sistema02.png": {
     "image/png": "[encoded data removed]"
    }
   },
   "cell_type": "markdown",
   "id": "7d329d9f",
   "metadata": {},
   "source": [
    "![sistema02.png](attachment:sistema02.png)"
   ]
  },
  {
   "cell_type": "code",
   "execution_count": 8,
   "id": "2fcf0a6d",
   "metadata": {},
   "outputs": [
    {
     "name": "stdout",
     "output_type": "stream",
     "text": [
      "[[6 0 8]\n",
      " [2 2 1]\n",
      " [4 1 0]]\n"
     ]
    }
   ],
   "source": [
    "C2 = np.array([[6,0,8],[2,2,1],[4,1,0]])\n",
    "print (C2)"
   ]
  },
  {
   "cell_type": "code",
   "execution_count": 10,
   "id": "24441f20",
   "metadata": {},
   "outputs": [
    {
     "name": "stdout",
     "output_type": "stream",
     "text": [
      "[[ 9]\n",
      " [15]\n",
      " [-4]]\n"
     ]
    }
   ],
   "source": [
    "I2 = np.array([[9],[15],[-4]])\n",
    "print (I2)               "
   ]
  },
  {
   "cell_type": "code",
   "execution_count": 12,
   "id": "dda30260",
   "metadata": {},
   "outputs": [
    {
     "name": "stdout",
     "output_type": "stream",
     "text": [
      "[[-3.24074074]\n",
      " [ 8.96296296]\n",
      " [ 3.55555556]]\n"
     ]
    }
   ],
   "source": [
    "#Solucion por función solve\n",
    "Solucion02a = np.linalg.solve(C2,I2)\n",
    "print (Solucion02a)"
   ]
  },
  {
   "cell_type": "code",
   "execution_count": 13,
   "id": "8702303c",
   "metadata": {},
   "outputs": [
    {
     "name": "stdout",
     "output_type": "stream",
     "text": [
      "[[ 0.01851852 -0.14814815  0.2962963 ]\n",
      " [-0.07407407  0.59259259 -0.18518519]\n",
      " [ 0.11111111  0.11111111 -0.22222222]]\n"
     ]
    }
   ],
   "source": [
    "#Solucion por matriz inversa y producto punto\n",
    "C2_Inv = np.linalg.inv(C2)\n",
    "print (C2_Inv)"
   ]
  },
  {
   "cell_type": "code",
   "execution_count": 14,
   "id": "7bf2ff79",
   "metadata": {},
   "outputs": [
    {
     "name": "stdout",
     "output_type": "stream",
     "text": [
      "[[-3.24074074]\n",
      " [ 8.96296296]\n",
      " [ 3.55555556]]\n"
     ]
    }
   ],
   "source": [
    "Solucion02b = C2_Inv.dot(I2)\n",
    "print (Solucion02b)"
   ]
  },
  {
   "cell_type": "markdown",
   "id": "052958ef",
   "metadata": {},
   "source": [
    "La solución al sistema de ecuaciones lineal 2 es x = -3.24074074  , y = 8.96296296  , z = 3.55555556"
   ]
  },
  {
   "cell_type": "code",
   "execution_count": null,
   "id": "254c2c67",
   "metadata": {},
   "outputs": [],
   "source": []
  }
 ],
 "metadata": {
  "kernelspec": {
   "display_name": "Python 3 (ipykernel)",
   "language": "python",
   "name": "python3"
  },
  "language_info": {
   "codemirror_mode": {
    "name": "ipython",
    "version": 3
   },
   "file_extension": ".py",
   "mimetype": "text/x-python",
   "name": "python",
   "nbconvert_exporter": "python",
   "pygments_lexer": "ipython3",
   "version": "3.8.8"
  }
 },
 "nbformat": 4,
 "nbformat_minor": 5
}
